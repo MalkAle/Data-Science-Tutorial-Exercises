{
 "cells": [
  {
   "cell_type": "markdown",
   "id": "f76dd991",
   "metadata": {},
   "source": [
    "# Introduction\n",
    "\n",
    "The goal of the project is to build a model that can predict wether or nor a borrower will pay back their loan given historical data on loans. \n",
    "\n",
    "LendingClub is a US peer-to-peer lending company, headquartered in San Francisco, California.[3] It was the first peer-to-peer lender to register its offerings as securities with the Securities and Exchange Commission (SEC), and to offer loan trading on a secondary market. LendingClub is the world's largest peer-to-peer lending platform."
   ]
  },
  {
   "cell_type": "markdown",
   "id": "1f6505f9",
   "metadata": {},
   "source": [
    "**Importing libraries**"
   ]
  },
  {
   "cell_type": "code",
   "execution_count": 224,
   "id": "108152e7",
   "metadata": {},
   "outputs": [],
   "source": [
    "import pandas as pd\n",
    "import numpy as np\n",
    "import matplotlib.pyplot as plt\n",
    "import seaborn as sns\n",
    "%matplotlib inline"
   ]
  },
  {
   "cell_type": "markdown",
   "id": "bc6a27f5",
   "metadata": {},
   "source": [
    "**Importing and checking data**"
   ]
  },
  {
   "cell_type": "code",
   "execution_count": 225,
   "id": "b83cae87",
   "metadata": {},
   "outputs": [],
   "source": [
    "data_info = pd.read_csv('lending_club_info.csv',index_col='LoanStatNew')"
   ]
  },
  {
   "cell_type": "code",
   "execution_count": 226,
   "id": "4d2ba92f",
   "metadata": {},
   "outputs": [
    {
     "name": "stdout",
     "output_type": "stream",
     "text": [
      "<class 'pandas.core.frame.DataFrame'>\n",
      "Index: 28 entries, loan_amnt to pub_rec_bankruptcies\n",
      "Data columns (total 1 columns):\n",
      " #   Column       Non-Null Count  Dtype \n",
      "---  ------       --------------  ----- \n",
      " 0   Description  28 non-null     object\n",
      "dtypes: object(1)\n",
      "memory usage: 448.0+ bytes\n"
     ]
    }
   ],
   "source": [
    "data_info.info()"
   ]
  },
  {
   "cell_type": "code",
   "execution_count": 227,
   "id": "79ccb9bb",
   "metadata": {},
   "outputs": [
    {
     "data": {
      "text/html": [
       "<div>\n",
       "<style scoped>\n",
       "    .dataframe tbody tr th:only-of-type {\n",
       "        vertical-align: middle;\n",
       "    }\n",
       "\n",
       "    .dataframe tbody tr th {\n",
       "        vertical-align: top;\n",
       "    }\n",
       "\n",
       "    .dataframe thead th {\n",
       "        text-align: right;\n",
       "    }\n",
       "</style>\n",
       "<table border=\"1\" class=\"dataframe\">\n",
       "  <thead>\n",
       "    <tr style=\"text-align: right;\">\n",
       "      <th></th>\n",
       "      <th>Description</th>\n",
       "    </tr>\n",
       "    <tr>\n",
       "      <th>LoanStatNew</th>\n",
       "      <th></th>\n",
       "    </tr>\n",
       "  </thead>\n",
       "  <tbody>\n",
       "    <tr>\n",
       "      <th>loan_amnt</th>\n",
       "      <td>The listed amount of the loan applied for by t...</td>\n",
       "    </tr>\n",
       "    <tr>\n",
       "      <th>term</th>\n",
       "      <td>The number of payments on the loan. Values are...</td>\n",
       "    </tr>\n",
       "    <tr>\n",
       "      <th>int_rate</th>\n",
       "      <td>Interest Rate on the loan</td>\n",
       "    </tr>\n",
       "    <tr>\n",
       "      <th>installment</th>\n",
       "      <td>The monthly payment owed by the borrower if th...</td>\n",
       "    </tr>\n",
       "    <tr>\n",
       "      <th>grade</th>\n",
       "      <td>LC assigned loan grade</td>\n",
       "    </tr>\n",
       "    <tr>\n",
       "      <th>sub_grade</th>\n",
       "      <td>LC assigned loan subgrade</td>\n",
       "    </tr>\n",
       "    <tr>\n",
       "      <th>emp_title</th>\n",
       "      <td>The job title supplied by the Borrower when ap...</td>\n",
       "    </tr>\n",
       "    <tr>\n",
       "      <th>emp_length</th>\n",
       "      <td>Employment length in years. Possible values ar...</td>\n",
       "    </tr>\n",
       "    <tr>\n",
       "      <th>home_ownership</th>\n",
       "      <td>The home ownership status provided by the borr...</td>\n",
       "    </tr>\n",
       "    <tr>\n",
       "      <th>annual_inc</th>\n",
       "      <td>The self-reported annual income provided by th...</td>\n",
       "    </tr>\n",
       "    <tr>\n",
       "      <th>verification_status</th>\n",
       "      <td>Indicates if income was verified by LC, not ve...</td>\n",
       "    </tr>\n",
       "    <tr>\n",
       "      <th>issue_d</th>\n",
       "      <td>The month which the loan was funded</td>\n",
       "    </tr>\n",
       "    <tr>\n",
       "      <th>loan_status</th>\n",
       "      <td>Current status of the loan</td>\n",
       "    </tr>\n",
       "    <tr>\n",
       "      <th>purpose</th>\n",
       "      <td>A category provided by the borrower for the lo...</td>\n",
       "    </tr>\n",
       "    <tr>\n",
       "      <th>title</th>\n",
       "      <td>The loan title provided by the borrower</td>\n",
       "    </tr>\n",
       "    <tr>\n",
       "      <th>zip_code</th>\n",
       "      <td>The first 3 numbers of the zip code provided b...</td>\n",
       "    </tr>\n",
       "    <tr>\n",
       "      <th>addr_state</th>\n",
       "      <td>The state provided by the borrower in the loan...</td>\n",
       "    </tr>\n",
       "    <tr>\n",
       "      <th>dti</th>\n",
       "      <td>A ratio calculated using the borrower’s total ...</td>\n",
       "    </tr>\n",
       "    <tr>\n",
       "      <th>earliest_cr_line</th>\n",
       "      <td>The month the borrower's earliest reported cre...</td>\n",
       "    </tr>\n",
       "    <tr>\n",
       "      <th>open_acc</th>\n",
       "      <td>The number of open credit lines in the borrowe...</td>\n",
       "    </tr>\n",
       "    <tr>\n",
       "      <th>pub_rec</th>\n",
       "      <td>Number of derogatory public records</td>\n",
       "    </tr>\n",
       "    <tr>\n",
       "      <th>revol_bal</th>\n",
       "      <td>Total credit revolving balance</td>\n",
       "    </tr>\n",
       "    <tr>\n",
       "      <th>revol_util</th>\n",
       "      <td>Revolving line utilization rate, or the amount...</td>\n",
       "    </tr>\n",
       "    <tr>\n",
       "      <th>total_acc</th>\n",
       "      <td>The total number of credit lines currently in ...</td>\n",
       "    </tr>\n",
       "    <tr>\n",
       "      <th>initial_list_status</th>\n",
       "      <td>The initial listing status of the loan. Possib...</td>\n",
       "    </tr>\n",
       "    <tr>\n",
       "      <th>application_type</th>\n",
       "      <td>Indicates whether the loan is an individual ap...</td>\n",
       "    </tr>\n",
       "    <tr>\n",
       "      <th>mort_acc</th>\n",
       "      <td>Number of mortgage accounts.</td>\n",
       "    </tr>\n",
       "    <tr>\n",
       "      <th>pub_rec_bankruptcies</th>\n",
       "      <td>Number of public record bankruptcies</td>\n",
       "    </tr>\n",
       "  </tbody>\n",
       "</table>\n",
       "</div>"
      ],
      "text/plain": [
       "                                                            Description\n",
       "LoanStatNew                                                            \n",
       "loan_amnt             The listed amount of the loan applied for by t...\n",
       "term                  The number of payments on the loan. Values are...\n",
       "int_rate                                      Interest Rate on the loan\n",
       "installment           The monthly payment owed by the borrower if th...\n",
       "grade                                            LC assigned loan grade\n",
       "sub_grade                                     LC assigned loan subgrade\n",
       "emp_title             The job title supplied by the Borrower when ap...\n",
       "emp_length            Employment length in years. Possible values ar...\n",
       "home_ownership        The home ownership status provided by the borr...\n",
       "annual_inc            The self-reported annual income provided by th...\n",
       "verification_status   Indicates if income was verified by LC, not ve...\n",
       "issue_d                             The month which the loan was funded\n",
       "loan_status                                  Current status of the loan\n",
       "purpose               A category provided by the borrower for the lo...\n",
       "title                           The loan title provided by the borrower\n",
       "zip_code              The first 3 numbers of the zip code provided b...\n",
       "addr_state            The state provided by the borrower in the loan...\n",
       "dti                   A ratio calculated using the borrower’s total ...\n",
       "earliest_cr_line      The month the borrower's earliest reported cre...\n",
       "open_acc              The number of open credit lines in the borrowe...\n",
       "pub_rec                             Number of derogatory public records\n",
       "revol_bal                                Total credit revolving balance\n",
       "revol_util            Revolving line utilization rate, or the amount...\n",
       "total_acc             The total number of credit lines currently in ...\n",
       "initial_list_status   The initial listing status of the loan. Possib...\n",
       "application_type      Indicates whether the loan is an individual ap...\n",
       "mort_acc                                   Number of mortgage accounts.\n",
       "pub_rec_bankruptcies               Number of public record bankruptcies"
      ]
     },
     "execution_count": 227,
     "metadata": {},
     "output_type": "execute_result"
    }
   ],
   "source": [
    "data_info"
   ]
  },
  {
   "cell_type": "code",
   "execution_count": 228,
   "id": "1eacf770",
   "metadata": {},
   "outputs": [
    {
     "name": "stdout",
     "output_type": "stream",
     "text": [
      "Number of mortgage accounts.\n"
     ]
    }
   ],
   "source": [
    "print(data_info.loc['mort_acc']['Description'])"
   ]
  },
  {
   "cell_type": "code",
   "execution_count": 229,
   "id": "cffd89a8",
   "metadata": {},
   "outputs": [],
   "source": [
    "def feat_info(col_name):\n",
    "    print(data_info.loc[col_name]['Description'])"
   ]
  },
  {
   "cell_type": "code",
   "execution_count": 230,
   "id": "2ee41a20",
   "metadata": {},
   "outputs": [
    {
     "name": "stdout",
     "output_type": "stream",
     "text": [
      "Number of mortgage accounts.\n"
     ]
    }
   ],
   "source": [
    "feat_info('mort_acc')"
   ]
  },
  {
   "cell_type": "code",
   "execution_count": 231,
   "id": "605b924c",
   "metadata": {},
   "outputs": [],
   "source": [
    "df = pd.read_csv('lending_club_loan_two.csv')"
   ]
  },
  {
   "cell_type": "code",
   "execution_count": 232,
   "id": "c085af50",
   "metadata": {},
   "outputs": [
    {
     "name": "stdout",
     "output_type": "stream",
     "text": [
      "<class 'pandas.core.frame.DataFrame'>\n",
      "RangeIndex: 396030 entries, 0 to 396029\n",
      "Data columns (total 27 columns):\n",
      " #   Column                Non-Null Count   Dtype  \n",
      "---  ------                --------------   -----  \n",
      " 0   loan_amnt             396030 non-null  float64\n",
      " 1   term                  396030 non-null  object \n",
      " 2   int_rate              396030 non-null  float64\n",
      " 3   installment           396030 non-null  float64\n",
      " 4   grade                 396030 non-null  object \n",
      " 5   sub_grade             396030 non-null  object \n",
      " 6   emp_title             373103 non-null  object \n",
      " 7   emp_length            377729 non-null  object \n",
      " 8   home_ownership        396030 non-null  object \n",
      " 9   annual_inc            396030 non-null  float64\n",
      " 10  verification_status   396030 non-null  object \n",
      " 11  issue_d               396030 non-null  object \n",
      " 12  loan_status           396030 non-null  object \n",
      " 13  purpose               396030 non-null  object \n",
      " 14  title                 394275 non-null  object \n",
      " 15  dti                   396030 non-null  float64\n",
      " 16  earliest_cr_line      396030 non-null  object \n",
      " 17  open_acc              396030 non-null  float64\n",
      " 18  pub_rec               396030 non-null  float64\n",
      " 19  revol_bal             396030 non-null  float64\n",
      " 20  revol_util            395754 non-null  float64\n",
      " 21  total_acc             396030 non-null  float64\n",
      " 22  initial_list_status   396030 non-null  object \n",
      " 23  application_type      396030 non-null  object \n",
      " 24  mort_acc              358235 non-null  float64\n",
      " 25  pub_rec_bankruptcies  395495 non-null  float64\n",
      " 26  address               396030 non-null  object \n",
      "dtypes: float64(12), object(15)\n",
      "memory usage: 81.6+ MB\n"
     ]
    }
   ],
   "source": [
    "df.info()"
   ]
  },
  {
   "cell_type": "markdown",
   "id": "1b7d687c",
   "metadata": {},
   "source": [
    "# Exploratory Data Analysis"
   ]
  },
  {
   "cell_type": "code",
   "execution_count": 233,
   "id": "becba324",
   "metadata": {},
   "outputs": [
    {
     "data": {
      "text/html": [
       "<div>\n",
       "<style scoped>\n",
       "    .dataframe tbody tr th:only-of-type {\n",
       "        vertical-align: middle;\n",
       "    }\n",
       "\n",
       "    .dataframe tbody tr th {\n",
       "        vertical-align: top;\n",
       "    }\n",
       "\n",
       "    .dataframe thead th {\n",
       "        text-align: right;\n",
       "    }\n",
       "</style>\n",
       "<table border=\"1\" class=\"dataframe\">\n",
       "  <thead>\n",
       "    <tr style=\"text-align: right;\">\n",
       "      <th></th>\n",
       "      <th>loan_amnt</th>\n",
       "      <th>term</th>\n",
       "      <th>int_rate</th>\n",
       "      <th>installment</th>\n",
       "      <th>grade</th>\n",
       "      <th>sub_grade</th>\n",
       "      <th>emp_title</th>\n",
       "      <th>emp_length</th>\n",
       "      <th>home_ownership</th>\n",
       "      <th>annual_inc</th>\n",
       "      <th>...</th>\n",
       "      <th>open_acc</th>\n",
       "      <th>pub_rec</th>\n",
       "      <th>revol_bal</th>\n",
       "      <th>revol_util</th>\n",
       "      <th>total_acc</th>\n",
       "      <th>initial_list_status</th>\n",
       "      <th>application_type</th>\n",
       "      <th>mort_acc</th>\n",
       "      <th>pub_rec_bankruptcies</th>\n",
       "      <th>address</th>\n",
       "    </tr>\n",
       "  </thead>\n",
       "  <tbody>\n",
       "    <tr>\n",
       "      <th>0</th>\n",
       "      <td>10000.0</td>\n",
       "      <td>36 months</td>\n",
       "      <td>11.44</td>\n",
       "      <td>329.48</td>\n",
       "      <td>B</td>\n",
       "      <td>B4</td>\n",
       "      <td>Marketing</td>\n",
       "      <td>10+ years</td>\n",
       "      <td>RENT</td>\n",
       "      <td>117000.0</td>\n",
       "      <td>...</td>\n",
       "      <td>16.0</td>\n",
       "      <td>0.0</td>\n",
       "      <td>36369.0</td>\n",
       "      <td>41.8</td>\n",
       "      <td>25.0</td>\n",
       "      <td>w</td>\n",
       "      <td>INDIVIDUAL</td>\n",
       "      <td>0.0</td>\n",
       "      <td>0.0</td>\n",
       "      <td>0174 Michelle Gateway\\nMendozaberg, OK 22690</td>\n",
       "    </tr>\n",
       "    <tr>\n",
       "      <th>1</th>\n",
       "      <td>8000.0</td>\n",
       "      <td>36 months</td>\n",
       "      <td>11.99</td>\n",
       "      <td>265.68</td>\n",
       "      <td>B</td>\n",
       "      <td>B5</td>\n",
       "      <td>Credit analyst</td>\n",
       "      <td>4 years</td>\n",
       "      <td>MORTGAGE</td>\n",
       "      <td>65000.0</td>\n",
       "      <td>...</td>\n",
       "      <td>17.0</td>\n",
       "      <td>0.0</td>\n",
       "      <td>20131.0</td>\n",
       "      <td>53.3</td>\n",
       "      <td>27.0</td>\n",
       "      <td>f</td>\n",
       "      <td>INDIVIDUAL</td>\n",
       "      <td>3.0</td>\n",
       "      <td>0.0</td>\n",
       "      <td>1076 Carney Fort Apt. 347\\nLoganmouth, SD 05113</td>\n",
       "    </tr>\n",
       "    <tr>\n",
       "      <th>2</th>\n",
       "      <td>15600.0</td>\n",
       "      <td>36 months</td>\n",
       "      <td>10.49</td>\n",
       "      <td>506.97</td>\n",
       "      <td>B</td>\n",
       "      <td>B3</td>\n",
       "      <td>Statistician</td>\n",
       "      <td>&lt; 1 year</td>\n",
       "      <td>RENT</td>\n",
       "      <td>43057.0</td>\n",
       "      <td>...</td>\n",
       "      <td>13.0</td>\n",
       "      <td>0.0</td>\n",
       "      <td>11987.0</td>\n",
       "      <td>92.2</td>\n",
       "      <td>26.0</td>\n",
       "      <td>f</td>\n",
       "      <td>INDIVIDUAL</td>\n",
       "      <td>0.0</td>\n",
       "      <td>0.0</td>\n",
       "      <td>87025 Mark Dale Apt. 269\\nNew Sabrina, WV 05113</td>\n",
       "    </tr>\n",
       "    <tr>\n",
       "      <th>3</th>\n",
       "      <td>7200.0</td>\n",
       "      <td>36 months</td>\n",
       "      <td>6.49</td>\n",
       "      <td>220.65</td>\n",
       "      <td>A</td>\n",
       "      <td>A2</td>\n",
       "      <td>Client Advocate</td>\n",
       "      <td>6 years</td>\n",
       "      <td>RENT</td>\n",
       "      <td>54000.0</td>\n",
       "      <td>...</td>\n",
       "      <td>6.0</td>\n",
       "      <td>0.0</td>\n",
       "      <td>5472.0</td>\n",
       "      <td>21.5</td>\n",
       "      <td>13.0</td>\n",
       "      <td>f</td>\n",
       "      <td>INDIVIDUAL</td>\n",
       "      <td>0.0</td>\n",
       "      <td>0.0</td>\n",
       "      <td>823 Reid Ford\\nDelacruzside, MA 00813</td>\n",
       "    </tr>\n",
       "    <tr>\n",
       "      <th>4</th>\n",
       "      <td>24375.0</td>\n",
       "      <td>60 months</td>\n",
       "      <td>17.27</td>\n",
       "      <td>609.33</td>\n",
       "      <td>C</td>\n",
       "      <td>C5</td>\n",
       "      <td>Destiny Management Inc.</td>\n",
       "      <td>9 years</td>\n",
       "      <td>MORTGAGE</td>\n",
       "      <td>55000.0</td>\n",
       "      <td>...</td>\n",
       "      <td>13.0</td>\n",
       "      <td>0.0</td>\n",
       "      <td>24584.0</td>\n",
       "      <td>69.8</td>\n",
       "      <td>43.0</td>\n",
       "      <td>f</td>\n",
       "      <td>INDIVIDUAL</td>\n",
       "      <td>1.0</td>\n",
       "      <td>0.0</td>\n",
       "      <td>679 Luna Roads\\nGreggshire, VA 11650</td>\n",
       "    </tr>\n",
       "  </tbody>\n",
       "</table>\n",
       "<p>5 rows × 27 columns</p>\n",
       "</div>"
      ],
      "text/plain": [
       "   loan_amnt        term  int_rate  installment grade sub_grade  \\\n",
       "0    10000.0   36 months     11.44       329.48     B        B4   \n",
       "1     8000.0   36 months     11.99       265.68     B        B5   \n",
       "2    15600.0   36 months     10.49       506.97     B        B3   \n",
       "3     7200.0   36 months      6.49       220.65     A        A2   \n",
       "4    24375.0   60 months     17.27       609.33     C        C5   \n",
       "\n",
       "                 emp_title emp_length home_ownership  annual_inc  ...  \\\n",
       "0                Marketing  10+ years           RENT    117000.0  ...   \n",
       "1          Credit analyst     4 years       MORTGAGE     65000.0  ...   \n",
       "2             Statistician   < 1 year           RENT     43057.0  ...   \n",
       "3          Client Advocate    6 years           RENT     54000.0  ...   \n",
       "4  Destiny Management Inc.    9 years       MORTGAGE     55000.0  ...   \n",
       "\n",
       "  open_acc pub_rec revol_bal revol_util total_acc  initial_list_status  \\\n",
       "0     16.0     0.0   36369.0       41.8      25.0                    w   \n",
       "1     17.0     0.0   20131.0       53.3      27.0                    f   \n",
       "2     13.0     0.0   11987.0       92.2      26.0                    f   \n",
       "3      6.0     0.0    5472.0       21.5      13.0                    f   \n",
       "4     13.0     0.0   24584.0       69.8      43.0                    f   \n",
       "\n",
       "  application_type  mort_acc  pub_rec_bankruptcies  \\\n",
       "0       INDIVIDUAL       0.0                   0.0   \n",
       "1       INDIVIDUAL       3.0                   0.0   \n",
       "2       INDIVIDUAL       0.0                   0.0   \n",
       "3       INDIVIDUAL       0.0                   0.0   \n",
       "4       INDIVIDUAL       1.0                   0.0   \n",
       "\n",
       "                                           address  \n",
       "0     0174 Michelle Gateway\\nMendozaberg, OK 22690  \n",
       "1  1076 Carney Fort Apt. 347\\nLoganmouth, SD 05113  \n",
       "2  87025 Mark Dale Apt. 269\\nNew Sabrina, WV 05113  \n",
       "3            823 Reid Ford\\nDelacruzside, MA 00813  \n",
       "4             679 Luna Roads\\nGreggshire, VA 11650  \n",
       "\n",
       "[5 rows x 27 columns]"
      ]
     },
     "execution_count": 233,
     "metadata": {},
     "output_type": "execute_result"
    }
   ],
   "source": [
    "df.head()"
   ]
  },
  {
   "cell_type": "markdown",
   "id": "6f7d3f35",
   "metadata": {},
   "source": [
    "**Writing function to check description of columns**"
   ]
  },
  {
   "cell_type": "markdown",
   "id": "76b467e2",
   "metadata": {},
   "source": [
    "**Checking the distibution of loans paid back vs not payed back**"
   ]
  },
  {
   "cell_type": "code",
   "execution_count": 234,
   "id": "d447bc18",
   "metadata": {},
   "outputs": [
    {
     "data": {
      "text/plain": [
       "<AxesSubplot:xlabel='loan_status', ylabel='count'>"
      ]
     },
     "execution_count": 234,
     "metadata": {},
     "output_type": "execute_result"
    },
    {
     "data": {
      "image/png": "[encoded data removed]",
      "text/plain": [
       "<Figure size 432x288 with 1 Axes>"
      ]
     },
     "metadata": {
      "needs_background": "light"
     },
     "output_type": "display_data"
    }
   ],
   "source": [
    "sns.countplot(data=df,x='loan_status')"
   ]
  },
  {
   "cell_type": "markdown",
   "id": "70b9dd26",
   "metadata": {},
   "source": [
    "**Histogram of loan amountdf.corr()**"
   ]
  },
  {
   "cell_type": "code",
   "execution_count": 235,
   "id": "38437ee9",
   "metadata": {},
   "outputs": [
    {
     "data": {
      "text/plain": [
       "<AxesSubplot:xlabel='loan_amnt', ylabel='Count'>"
      ]
     },
     "execution_count": 235,
     "metadata": {},
     "output_type": "execute_result"
    },
    {
     "data": {
      "image/png": "[encoded data removed]",
      "text/plain": [
       "<Figure size 864x360 with 1 Axes>"
      ]
     },
     "metadata": {
      "needs_background": "light"
     },
     "output_type": "display_data"
    }
   ],
   "source": [
    "plt.figure(figsize=(12,5))\n",
    "sns.histplot(data=df,x='loan_amnt',bins=50,)"
   ]
  },
  {
   "cell_type": "markdown",
   "id": "d4fe4263",
   "metadata": {},
   "source": [
    "**Exloring correlation of variables stated in columns**"
   ]
  },
  {
   "cell_type": "code",
   "execution_count": 236,
   "id": "3eb42412",
   "metadata": {},
   "outputs": [
    {
     "data": {
      "text/plain": [
       "<AxesSubplot:>"
      ]
     },
     "execution_count": 236,
     "metadata": {},
     "output_type": "execute_result"
    },
    {
     "data": {
      "image/png": "[encoded data removed]",
      "text/plain": [
       "<Figure size 1080x576 with 2 Axes>"
      ]
     },
     "metadata": {
      "needs_background": "light"
     },
     "output_type": "display_data"
    }
   ],
   "source": [
    "df.corr()\n",
    "plt.figure(figsize=(15,8))\n",
    "sns.heatmap(df.corr(),annot=True,cmap='viridis')"
   ]
  },
  {
   "cell_type": "markdown",
   "id": "3f1cf0e1",
   "metadata": {},
   "source": [
    "**Heatmap shows high correlation values between installnent and loan amount. Exploring these features.**"
   ]
  },
  {
   "cell_type": "code",
   "execution_count": 237,
   "id": "25885f72",
   "metadata": {},
   "outputs": [
    {
     "name": "stdout",
     "output_type": "stream",
     "text": [
      "The monthly payment owed by the borrower if the loan originates.\n"
     ]
    }
   ],
   "source": [
    "feat_info('installment')"
   ]
  },
  {
   "cell_type": "code",
   "execution_count": 238,
   "id": "52659108",
   "metadata": {},
   "outputs": [
    {
     "name": "stdout",
     "output_type": "stream",
     "text": [
      "The listed amount of the loan applied for by the borrower. If at some point in time, the credit department reduces the loan amount, then it will be reflected in this value.\n"
     ]
    }
   ],
   "source": [
    "feat_info('loan_amnt')"
   ]
  },
  {
   "cell_type": "code",
   "execution_count": 239,
   "id": "dff831f9",
   "metadata": {},
   "outputs": [
    {
     "data": {
      "text/plain": [
       "<AxesSubplot:xlabel='installment', ylabel='loan_amnt'>"
      ]
     },
     "execution_count": 239,
     "metadata": {},
     "output_type": "execute_result"
    },
    {
     "data": {
      "image/png": "[encoded data removed]",
      "text/plain": [
       "<Figure size 432x288 with 1 Axes>"
      ]
     },
     "metadata": {
      "needs_background": "light"
     },
     "output_type": "display_data"
    }
   ],
   "source": [
    "sns.scatterplot(data=df,x='installment',y='loan_amnt')"
   ]
  },
  {
   "cell_type": "markdown",
   "id": "fd22dda2",
   "metadata": {},
   "source": [
    "**It can be seen that there is correlation, but it is not redundant information since there is a significant variation in installment for the same loan amount**"
   ]
  },
  {
   "cell_type": "markdown",
   "id": "7ff86ccb",
   "metadata": {},
   "source": [
    "**Checking the relation between loan payed back/charged off and loan amount**"
   ]
  },
  {
   "cell_type": "code",
   "execution_count": 240,
   "id": "4c17617d",
   "metadata": {},
   "outputs": [
    {
     "data": {
      "text/plain": [
       "<AxesSubplot:xlabel='loan_status', ylabel='loan_amnt'>"
      ]
     },
     "execution_count": 240,
     "metadata": {},
     "output_type": "execute_result"
    },
    {
     "data": {
      "image/png": "[encoded data removed]",
      "text/plain": [
       "<Figure size 432x288 with 1 Axes>"
      ]
     },
     "metadata": {
      "needs_background": "light"
     },
     "output_type": "display_data"
    }
   ],
   "source": [
    "sns.boxplot(data=df,x='loan_status',y='loan_amnt')"
   ]
  },
  {
   "cell_type": "markdown",
   "id": "ed244923",
   "metadata": {},
   "source": [
    "**No significant difference can be found**"
   ]
  },
  {
   "cell_type": "markdown",
   "id": "ee914f34",
   "metadata": {},
   "source": [
    "**Calculating the summary statistics for the loan amount, grouped by the loan_status.**"
   ]
  },
  {
   "cell_type": "code",
   "execution_count": 241,
   "id": "f3d4cc6d",
   "metadata": {},
   "outputs": [
    {
     "data": {
      "text/html": [
       "<div>\n",
       "<style scoped>\n",
       "    .dataframe tbody tr th:only-of-type {\n",
       "        vertical-align: middle;\n",
       "    }\n",
       "\n",
       "    .dataframe tbody tr th {\n",
       "        vertical-align: top;\n",
       "    }\n",
       "\n",
       "    .dataframe thead th {\n",
       "        text-align: right;\n",
       "    }\n",
       "</style>\n",
       "<table border=\"1\" class=\"dataframe\">\n",
       "  <thead>\n",
       "    <tr style=\"text-align: right;\">\n",
       "      <th></th>\n",
       "      <th>count</th>\n",
       "      <th>mean</th>\n",
       "      <th>std</th>\n",
       "      <th>min</th>\n",
       "      <th>25%</th>\n",
       "      <th>50%</th>\n",
       "      <th>75%</th>\n",
       "      <th>max</th>\n",
       "    </tr>\n",
       "    <tr>\n",
       "      <th>loan_status</th>\n",
       "      <th></th>\n",
       "      <th></th>\n",
       "      <th></th>\n",
       "      <th></th>\n",
       "      <th></th>\n",
       "      <th></th>\n",
       "      <th></th>\n",
       "      <th></th>\n",
       "    </tr>\n",
       "  </thead>\n",
       "  <tbody>\n",
       "    <tr>\n",
       "      <th>Charged Off</th>\n",
       "      <td>77673.0</td>\n",
       "      <td>15126.300967</td>\n",
       "      <td>8505.090557</td>\n",
       "      <td>1000.0</td>\n",
       "      <td>8525.0</td>\n",
       "      <td>14000.0</td>\n",
       "      <td>20000.0</td>\n",
       "      <td>40000.0</td>\n",
       "    </tr>\n",
       "    <tr>\n",
       "      <th>Fully Paid</th>\n",
       "      <td>318357.0</td>\n",
       "      <td>13866.878771</td>\n",
       "      <td>8302.319699</td>\n",
       "      <td>500.0</td>\n",
       "      <td>7500.0</td>\n",
       "      <td>12000.0</td>\n",
       "      <td>19225.0</td>\n",
       "      <td>40000.0</td>\n",
       "    </tr>\n",
       "  </tbody>\n",
       "</table>\n",
       "</div>"
      ],
      "text/plain": [
       "                count          mean          std     min     25%      50%  \\\n",
       "loan_status                                                                 \n",
       "Charged Off   77673.0  15126.300967  8505.090557  1000.0  8525.0  14000.0   \n",
       "Fully Paid   318357.0  13866.878771  8302.319699   500.0  7500.0  12000.0   \n",
       "\n",
       "                 75%      max  \n",
       "loan_status                    \n",
       "Charged Off  20000.0  40000.0  \n",
       "Fully Paid   19225.0  40000.0  "
      ]
     },
     "execution_count": 241,
     "metadata": {},
     "output_type": "execute_result"
    }
   ],
   "source": [
    "df.groupby('loan_status').describe()['loan_amnt']"
   ]
  },
  {
   "cell_type": "markdown",
   "id": "65c73fb3",
   "metadata": {},
   "source": [
    "**Exploring the Grade and SubGrade columns that LendingClub attributes to the loans.**"
   ]
  },
  {
   "cell_type": "code",
   "execution_count": 242,
   "id": "2ed0e334",
   "metadata": {},
   "outputs": [
    {
     "data": {
      "text/html": [
       "<div>\n",
       "<style scoped>\n",
       "    .dataframe tbody tr th:only-of-type {\n",
       "        vertical-align: middle;\n",
       "    }\n",
       "\n",
       "    .dataframe tbody tr th {\n",
       "        vertical-align: top;\n",
       "    }\n",
       "\n",
       "    .dataframe thead th {\n",
       "        text-align: right;\n",
       "    }\n",
       "</style>\n",
       "<table border=\"1\" class=\"dataframe\">\n",
       "  <thead>\n",
       "    <tr style=\"text-align: right;\">\n",
       "      <th></th>\n",
       "      <th>loan_amnt</th>\n",
       "      <th>term</th>\n",
       "      <th>int_rate</th>\n",
       "      <th>installment</th>\n",
       "      <th>grade</th>\n",
       "      <th>sub_grade</th>\n",
       "      <th>emp_title</th>\n",
       "      <th>emp_length</th>\n",
       "      <th>home_ownership</th>\n",
       "      <th>annual_inc</th>\n",
       "      <th>...</th>\n",
       "      <th>open_acc</th>\n",
       "      <th>pub_rec</th>\n",
       "      <th>revol_bal</th>\n",
       "      <th>revol_util</th>\n",
       "      <th>total_acc</th>\n",
       "      <th>initial_list_status</th>\n",
       "      <th>application_type</th>\n",
       "      <th>mort_acc</th>\n",
       "      <th>pub_rec_bankruptcies</th>\n",
       "      <th>address</th>\n",
       "    </tr>\n",
       "  </thead>\n",
       "  <tbody>\n",
       "    <tr>\n",
       "      <th>0</th>\n",
       "      <td>10000.0</td>\n",
       "      <td>36 months</td>\n",
       "      <td>11.44</td>\n",
       "      <td>329.48</td>\n",
       "      <td>B</td>\n",
       "      <td>B4</td>\n",
       "      <td>Marketing</td>\n",
       "      <td>10+ years</td>\n",
       "      <td>RENT</td>\n",
       "      <td>117000.0</td>\n",
       "      <td>...</td>\n",
       "      <td>16.0</td>\n",
       "      <td>0.0</td>\n",
       "      <td>36369.0</td>\n",
       "      <td>41.8</td>\n",
       "      <td>25.0</td>\n",
       "      <td>w</td>\n",
       "      <td>INDIVIDUAL</td>\n",
       "      <td>0.0</td>\n",
       "      <td>0.0</td>\n",
       "      <td>0174 Michelle Gateway\\nMendozaberg, OK 22690</td>\n",
       "    </tr>\n",
       "  </tbody>\n",
       "</table>\n",
       "<p>1 rows × 27 columns</p>\n",
       "</div>"
      ],
      "text/plain": [
       "   loan_amnt        term  int_rate  installment grade sub_grade  emp_title  \\\n",
       "0    10000.0   36 months     11.44       329.48     B        B4  Marketing   \n",
       "\n",
       "  emp_length home_ownership  annual_inc  ... open_acc pub_rec revol_bal  \\\n",
       "0  10+ years           RENT    117000.0  ...     16.0     0.0   36369.0   \n",
       "\n",
       "  revol_util total_acc  initial_list_status application_type  mort_acc  \\\n",
       "0       41.8      25.0                    w       INDIVIDUAL       0.0   \n",
       "\n",
       "   pub_rec_bankruptcies                                       address  \n",
       "0                   0.0  0174 Michelle Gateway\\nMendozaberg, OK 22690  \n",
       "\n",
       "[1 rows x 27 columns]"
      ]
     },
     "execution_count": 242,
     "metadata": {},
     "output_type": "execute_result"
    }
   ],
   "source": [
    "df.head(1)"
   ]
  },
  {
   "cell_type": "code",
   "execution_count": 243,
   "id": "7c342c1f",
   "metadata": {},
   "outputs": [
    {
     "data": {
      "text/plain": [
       "['A', 'B', 'C', 'D', 'E', 'F', 'G']"
      ]
     },
     "execution_count": 243,
     "metadata": {},
     "output_type": "execute_result"
    }
   ],
   "source": [
    "grades = sorted(df['grade'].unique())\n",
    "grades"
   ]
  },
  {
   "cell_type": "code",
   "execution_count": 244,
   "id": "89ae5db4",
   "metadata": {},
   "outputs": [
    {
     "data": {
      "text/plain": [
       "['A1',\n",
       " 'A2',\n",
       " 'A3',\n",
       " 'A4',\n",
       " 'A5',\n",
       " 'B1',\n",
       " 'B2',\n",
       " 'B3',\n",
       " 'B4',\n",
       " 'B5',\n",
       " 'C1',\n",
       " 'C2',\n",
       " 'C3',\n",
       " 'C4',\n",
       " 'C5',\n",
       " 'D1',\n",
       " 'D2',\n",
       " 'D3',\n",
       " 'D4',\n",
       " 'D5',\n",
       " 'E1',\n",
       " 'E2',\n",
       " 'E3',\n",
       " 'E4',\n",
       " 'E5',\n",
       " 'F1',\n",
       " 'F2',\n",
       " 'F3',\n",
       " 'F4',\n",
       " 'F5',\n",
       " 'G1',\n",
       " 'G2',\n",
       " 'G3',\n",
       " 'G4',\n",
       " 'G5']"
      ]
     },
     "execution_count": 244,
     "metadata": {},
     "output_type": "execute_result"
    }
   ],
   "source": [
    "subgrades = sorted(df['sub_grade'].unique())\n",
    "subgrades"
   ]
  },
  {
   "cell_type": "markdown",
   "id": "99274a97",
   "metadata": {},
   "source": [
    "**Creating a countplot fully paid/charged off per grade**"
   ]
  },
  {
   "cell_type": "code",
   "execution_count": 245,
   "id": "ca3f03f3",
   "metadata": {},
   "outputs": [
    {
     "data": {
      "text/plain": [
       "<AxesSubplot:xlabel='grade', ylabel='count'>"
      ]
     },
     "execution_count": 245,
     "metadata": {},
     "output_type": "execute_result"
    },
    {
     "data": {
      "image/png": "[encoded data removed]",
      "text/plain": [
       "<Figure size 432x288 with 1 Axes>"
      ]
     },
     "metadata": {
      "needs_background": "light"
     },
     "output_type": "display_data"
    }
   ],
   "source": [
    "sns.countplot(data=df,x='grade',hue='loan_status')"
   ]
  },
  {
   "cell_type": "markdown",
   "id": "b17ae5f6",
   "metadata": {},
   "source": [
    "**Displaying a count plot per subgrade.**"
   ]
  },
  {
   "cell_type": "code",
   "execution_count": 246,
   "id": "7f995a2e",
   "metadata": {},
   "outputs": [
    {
     "data": {
      "text/plain": [
       "<AxesSubplot:xlabel='sub_grade', ylabel='count'>"
      ]
     },
     "execution_count": 246,
     "metadata": {},
     "output_type": "execute_result"
    },
    {
     "data": {
      "image/png": "[encoded data removed]",
      "text/plain": [
       "<Figure size 864x360 with 1 Axes>"
      ]
     },
     "metadata": {
      "needs_background": "light"
     },
     "output_type": "display_data"
    }
   ],
   "source": [
    "plt.figure(figsize=(12,5))\n",
    "sns.countplot(data=df,x='sub_grade',order=subgrades,color='blue')"
   ]
  },
  {
   "cell_type": "markdown",
   "id": "7a2f8438",
   "metadata": {},
   "source": [
    "**Countplot per subgrade fully paid/charged off**"
   ]
  },
  {
   "cell_type": "code",
   "execution_count": 247,
   "id": "de853b74",
   "metadata": {},
   "outputs": [
    {
     "data": {
      "text/plain": [
       "<AxesSubplot:xlabel='sub_grade', ylabel='count'>"
      ]
     },
     "execution_count": 247,
     "metadata": {},
     "output_type": "execute_result"
    },
    {
     "data": {
      "image/png": "[encoded data removed]",
      "text/plain": [
       "<Figure size 864x360 with 1 Axes>"
      ]
     },
     "metadata": {
      "needs_background": "light"
     },
     "output_type": "display_data"
    }
   ],
   "source": [
    "plt.figure(figsize=(12,5))\n",
    "sns.countplot(data=df,x='sub_grade',hue='loan_status',order=subgrades,palette='magma')"
   ]
  },
  {
   "cell_type": "markdown",
   "id": "1c64334c",
   "metadata": {},
   "source": [
    "**Apparently F and G subgrades don't get paid back that often**"
   ]
  },
  {
   "cell_type": "markdown",
   "id": "d251c55b",
   "metadata": {},
   "source": [
    "**Displaying countplot just for those subgrades F and G**"
   ]
  },
  {
   "cell_type": "code",
   "execution_count": 248,
   "id": "b92d17c3",
   "metadata": {},
   "outputs": [
    {
     "data": {
      "text/plain": [
       "<AxesSubplot:xlabel='sub_grade', ylabel='count'>"
      ]
     },
     "execution_count": 248,
     "metadata": {},
     "output_type": "execute_result"
    },
    {
     "data": {
      "image/png": "[encoded data removed]",
      "text/plain": [
       "<Figure size 864x360 with 1 Axes>"
      ]
     },
     "metadata": {
      "needs_background": "light"
     },
     "output_type": "display_data"
    }
   ],
   "source": [
    "df_FG = df[(df['grade']=='F') | (df['grade']=='G')]\n",
    "subgrades_FG = sorted(df_FG['sub_grade'].unique())\n",
    "plt.figure(figsize=(12,5))\n",
    "sns.countplot(data=df_FG,x='sub_grade',order=subgrades_FG,hue='loan_status')"
   ]
  },
  {
   "cell_type": "markdown",
   "id": "2bf6e8c7",
   "metadata": {},
   "source": [
    "**Creating a new column called 'loan_repaid' which contains a 1 for loan status \"Fully Paid\" and a 0 for \"Charged Off\"**"
   ]
  },
  {
   "cell_type": "code",
   "execution_count": 249,
   "id": "f29a7ee5",
   "metadata": {},
   "outputs": [
    {
     "data": {
      "text/plain": [
       "0     Fully Paid\n",
       "1     Fully Paid\n",
       "2     Fully Paid\n",
       "3     Fully Paid\n",
       "4    Charged Off\n",
       "Name: loan_status, dtype: object"
      ]
     },
     "execution_count": 249,
     "metadata": {},
     "output_type": "execute_result"
    }
   ],
   "source": [
    "#df.columns\n",
    "df['loan_status'].head()"
   ]
  },
  {
   "cell_type": "code",
   "execution_count": 250,
   "id": "cc74bd3b",
   "metadata": {},
   "outputs": [],
   "source": [
    "df['loan_repaid'] = df['loan_status'].map({'Fully Paid':1,'Charged Off':0})"
   ]
  },
  {
   "cell_type": "code",
   "execution_count": 251,
   "id": "e2e3e1e7",
   "metadata": {},
   "outputs": [
    {
     "data": {
      "text/html": [
       "<div>\n",
       "<style scoped>\n",
       "    .dataframe tbody tr th:only-of-type {\n",
       "        vertical-align: middle;\n",
       "    }\n",
       "\n",
       "    .dataframe tbody tr th {\n",
       "        vertical-align: top;\n",
       "    }\n",
       "\n",
       "    .dataframe thead th {\n",
       "        text-align: right;\n",
       "    }\n",
       "</style>\n",
       "<table border=\"1\" class=\"dataframe\">\n",
       "  <thead>\n",
       "    <tr style=\"text-align: right;\">\n",
       "      <th></th>\n",
       "      <th>loan_amnt</th>\n",
       "      <th>term</th>\n",
       "      <th>int_rate</th>\n",
       "      <th>installment</th>\n",
       "      <th>grade</th>\n",
       "      <th>sub_grade</th>\n",
       "      <th>emp_title</th>\n",
       "      <th>emp_length</th>\n",
       "      <th>home_ownership</th>\n",
       "      <th>annual_inc</th>\n",
       "      <th>...</th>\n",
       "      <th>pub_rec</th>\n",
       "      <th>revol_bal</th>\n",
       "      <th>revol_util</th>\n",
       "      <th>total_acc</th>\n",
       "      <th>initial_list_status</th>\n",
       "      <th>application_type</th>\n",
       "      <th>mort_acc</th>\n",
       "      <th>pub_rec_bankruptcies</th>\n",
       "      <th>address</th>\n",
       "      <th>loan_repaid</th>\n",
       "    </tr>\n",
       "  </thead>\n",
       "  <tbody>\n",
       "    <tr>\n",
       "      <th>0</th>\n",
       "      <td>10000.0</td>\n",
       "      <td>36 months</td>\n",
       "      <td>11.44</td>\n",
       "      <td>329.48</td>\n",
       "      <td>B</td>\n",
       "      <td>B4</td>\n",
       "      <td>Marketing</td>\n",
       "      <td>10+ years</td>\n",
       "      <td>RENT</td>\n",
       "      <td>117000.0</td>\n",
       "      <td>...</td>\n",
       "      <td>0.0</td>\n",
       "      <td>36369.0</td>\n",
       "      <td>41.8</td>\n",
       "      <td>25.0</td>\n",
       "      <td>w</td>\n",
       "      <td>INDIVIDUAL</td>\n",
       "      <td>0.0</td>\n",
       "      <td>0.0</td>\n",
       "      <td>0174 Michelle Gateway\\nMendozaberg, OK 22690</td>\n",
       "      <td>1</td>\n",
       "    </tr>\n",
       "    <tr>\n",
       "      <th>1</th>\n",
       "      <td>8000.0</td>\n",
       "      <td>36 months</td>\n",
       "      <td>11.99</td>\n",
       "      <td>265.68</td>\n",
       "      <td>B</td>\n",
       "      <td>B5</td>\n",
       "      <td>Credit analyst</td>\n",
       "      <td>4 years</td>\n",
       "      <td>MORTGAGE</td>\n",
       "      <td>65000.0</td>\n",
       "      <td>...</td>\n",
       "      <td>0.0</td>\n",
       "      <td>20131.0</td>\n",
       "      <td>53.3</td>\n",
       "      <td>27.0</td>\n",
       "      <td>f</td>\n",
       "      <td>INDIVIDUAL</td>\n",
       "      <td>3.0</td>\n",
       "      <td>0.0</td>\n",
       "      <td>1076 Carney Fort Apt. 347\\nLoganmouth, SD 05113</td>\n",
       "      <td>1</td>\n",
       "    </tr>\n",
       "    <tr>\n",
       "      <th>2</th>\n",
       "      <td>15600.0</td>\n",
       "      <td>36 months</td>\n",
       "      <td>10.49</td>\n",
       "      <td>506.97</td>\n",
       "      <td>B</td>\n",
       "      <td>B3</td>\n",
       "      <td>Statistician</td>\n",
       "      <td>&lt; 1 year</td>\n",
       "      <td>RENT</td>\n",
       "      <td>43057.0</td>\n",
       "      <td>...</td>\n",
       "      <td>0.0</td>\n",
       "      <td>11987.0</td>\n",
       "      <td>92.2</td>\n",
       "      <td>26.0</td>\n",
       "      <td>f</td>\n",
       "      <td>INDIVIDUAL</td>\n",
       "      <td>0.0</td>\n",
       "      <td>0.0</td>\n",
       "      <td>87025 Mark Dale Apt. 269\\nNew Sabrina, WV 05113</td>\n",
       "      <td>1</td>\n",
       "    </tr>\n",
       "    <tr>\n",
       "      <th>3</th>\n",
       "      <td>7200.0</td>\n",
       "      <td>36 months</td>\n",
       "      <td>6.49</td>\n",
       "      <td>220.65</td>\n",
       "      <td>A</td>\n",
       "      <td>A2</td>\n",
       "      <td>Client Advocate</td>\n",
       "      <td>6 years</td>\n",
       "      <td>RENT</td>\n",
       "      <td>54000.0</td>\n",
       "      <td>...</td>\n",
       "      <td>0.0</td>\n",
       "      <td>5472.0</td>\n",
       "      <td>21.5</td>\n",
       "      <td>13.0</td>\n",
       "      <td>f</td>\n",
       "      <td>INDIVIDUAL</td>\n",
       "      <td>0.0</td>\n",
       "      <td>0.0</td>\n",
       "      <td>823 Reid Ford\\nDelacruzside, MA 00813</td>\n",
       "      <td>1</td>\n",
       "    </tr>\n",
       "    <tr>\n",
       "      <th>4</th>\n",
       "      <td>24375.0</td>\n",
       "      <td>60 months</td>\n",
       "      <td>17.27</td>\n",
       "      <td>609.33</td>\n",
       "      <td>C</td>\n",
       "      <td>C5</td>\n",
       "      <td>Destiny Management Inc.</td>\n",
       "      <td>9 years</td>\n",
       "      <td>MORTGAGE</td>\n",
       "      <td>55000.0</td>\n",
       "      <td>...</td>\n",
       "      <td>0.0</td>\n",
       "      <td>24584.0</td>\n",
       "      <td>69.8</td>\n",
       "      <td>43.0</td>\n",
       "      <td>f</td>\n",
       "      <td>INDIVIDUAL</td>\n",
       "      <td>1.0</td>\n",
       "      <td>0.0</td>\n",
       "      <td>679 Luna Roads\\nGreggshire, VA 11650</td>\n",
       "      <td>0</td>\n",
       "    </tr>\n",
       "  </tbody>\n",
       "</table>\n",
       "<p>5 rows × 28 columns</p>\n",
       "</div>"
      ],
      "text/plain": [
       "   loan_amnt        term  int_rate  installment grade sub_grade  \\\n",
       "0    10000.0   36 months     11.44       329.48     B        B4   \n",
       "1     8000.0   36 months     11.99       265.68     B        B5   \n",
       "2    15600.0   36 months     10.49       506.97     B        B3   \n",
       "3     7200.0   36 months      6.49       220.65     A        A2   \n",
       "4    24375.0   60 months     17.27       609.33     C        C5   \n",
       "\n",
       "                 emp_title emp_length home_ownership  annual_inc  ... pub_rec  \\\n",
       "0                Marketing  10+ years           RENT    117000.0  ...     0.0   \n",
       "1          Credit analyst     4 years       MORTGAGE     65000.0  ...     0.0   \n",
       "2             Statistician   < 1 year           RENT     43057.0  ...     0.0   \n",
       "3          Client Advocate    6 years           RENT     54000.0  ...     0.0   \n",
       "4  Destiny Management Inc.    9 years       MORTGAGE     55000.0  ...     0.0   \n",
       "\n",
       "  revol_bal revol_util total_acc initial_list_status  application_type  \\\n",
       "0   36369.0       41.8      25.0                   w        INDIVIDUAL   \n",
       "1   20131.0       53.3      27.0                   f        INDIVIDUAL   \n",
       "2   11987.0       92.2      26.0                   f        INDIVIDUAL   \n",
       "3    5472.0       21.5      13.0                   f        INDIVIDUAL   \n",
       "4   24584.0       69.8      43.0                   f        INDIVIDUAL   \n",
       "\n",
       "  mort_acc  pub_rec_bankruptcies  \\\n",
       "0      0.0                   0.0   \n",
       "1      3.0                   0.0   \n",
       "2      0.0                   0.0   \n",
       "3      0.0                   0.0   \n",
       "4      1.0                   0.0   \n",
       "\n",
       "                                           address  loan_repaid  \n",
       "0     0174 Michelle Gateway\\nMendozaberg, OK 22690            1  \n",
       "1  1076 Carney Fort Apt. 347\\nLoganmouth, SD 05113            1  \n",
       "2  87025 Mark Dale Apt. 269\\nNew Sabrina, WV 05113            1  \n",
       "3            823 Reid Ford\\nDelacruzside, MA 00813            1  \n",
       "4             679 Luna Roads\\nGreggshire, VA 11650            0  \n",
       "\n",
       "[5 rows x 28 columns]"
      ]
     },
     "execution_count": 251,
     "metadata": {},
     "output_type": "execute_result"
    }
   ],
   "source": [
    "df.head()"
   ]
  },
  {
   "cell_type": "markdown",
   "id": "6632defa",
   "metadata": {},
   "source": [
    "**Creating a bar plot showing the correlation of the numeric features to the new loan_repaid column.**"
   ]
  },
  {
   "cell_type": "code",
   "execution_count": 252,
   "id": "25b97d0e",
   "metadata": {},
   "outputs": [
    {
     "data": {
      "text/plain": [
       "<AxesSubplot:>"
      ]
     },
     "execution_count": 252,
     "metadata": {},
     "output_type": "execute_result"
    },
    {
     "data": {
      "image/png": "[encoded data removed]",
      "text/plain": [
       "<Figure size 432x288 with 1 Axes>"
      ]
     },
     "metadata": {
      "needs_background": "light"
     },
     "output_type": "display_data"
    }
   ],
   "source": [
    "df.corr()['loan_repaid'][:-1].transpose().sort_values().plot(kind='bar')"
   ]
  },
  {
   "cell_type": "markdown",
   "id": "32b3c561",
   "metadata": {},
   "source": [
    "**Exploring the \"earliest_cr_line\" feature**"
   ]
  },
  {
   "cell_type": "code",
   "execution_count": 253,
   "id": "8f47f11c",
   "metadata": {},
   "outputs": [
    {
     "name": "stdout",
     "output_type": "stream",
     "text": [
      "The month the borrower's earliest reported credit line was opened\n"
     ]
    }
   ],
   "source": [
    "feat_info('earliest_cr_line')"
   ]
  },
  {
   "cell_type": "code",
   "execution_count": 254,
   "id": "72f8fb23",
   "metadata": {},
   "outputs": [
    {
     "data": {
      "text/plain": [
       "0    Jun-1990\n",
       "1    Jul-2004\n",
       "2    Aug-2007\n",
       "3    Sep-2006\n",
       "4    Mar-1999\n",
       "Name: earliest_cr_line, dtype: object"
      ]
     },
     "execution_count": 254,
     "metadata": {},
     "output_type": "execute_result"
    }
   ],
   "source": [
    "df['earliest_cr_line'].head()"
   ]
  },
  {
   "cell_type": "markdown",
   "id": "8179455f",
   "metadata": {},
   "source": [
    "**Extracting the year from the timestamp**"
   ]
  },
  {
   "cell_type": "code",
   "execution_count": 255,
   "id": "f48ded53",
   "metadata": {},
   "outputs": [
    {
     "data": {
      "text/plain": [
       "2016"
      ]
     },
     "execution_count": 255,
     "metadata": {},
     "output_type": "execute_result"
    }
   ],
   "source": [
    "issue_year_max = int(df['issue_d'].max().split('-')[1])\n",
    "issue_year_max"
   ]
  },
  {
   "cell_type": "code",
   "execution_count": 256,
   "id": "4f4a65ba",
   "metadata": {},
   "outputs": [],
   "source": [
    "df['earliest_cr_year'] = df['earliest_cr_line'].apply(lambda x: issue_year_max-int(x.split('-')[1]))"
   ]
  },
  {
   "cell_type": "markdown",
   "id": "db87499f",
   "metadata": {},
   "source": [
    "**Visualising the counts of years from the \"earliest_line_year\" with hue \"fully paid\" vs \"charged_off\"**"
   ]
  },
  {
   "cell_type": "code",
   "execution_count": 257,
   "id": "26f1a25b",
   "metadata": {},
   "outputs": [
    {
     "data": {
      "text/plain": [
       "<AxesSubplot:xlabel='earliest_cr_year', ylabel='count'>"
      ]
     },
     "execution_count": 257,
     "metadata": {},
     "output_type": "execute_result"
    },
    {
     "data": {
      "image/png": "[encoded data removed]",
      "text/plain": [
       "<Figure size 1080x360 with 1 Axes>"
      ]
     },
     "metadata": {
      "needs_background": "light"
     },
     "output_type": "display_data"
    }
   ],
   "source": [
    "plt.figure(figsize=(15,5))\n",
    "sns.countplot(data=df,x='earliest_cr_year',hue='loan_status',dodge=True)"
   ]
  },
  {
   "cell_type": "markdown",
   "id": "da3aab60",
   "metadata": {},
   "source": [
    "**The question that arises here is what percentage of year's counts has been fully paid, this is not really clear from this graph.**"
   ]
  },
  {
   "cell_type": "code",
   "execution_count": 258,
   "id": "d09448cf",
   "metadata": {},
   "outputs": [
    {
     "data": {
      "text/plain": [
       "3       99\n",
       "4      791\n",
       "5     2133\n",
       "6     3156\n",
       "7     3874\n",
       "      ... \n",
       "63       2\n",
       "65       3\n",
       "66       3\n",
       "68       1\n",
       "72       1\n",
       "Name: earliest_cr_year, Length: 65, dtype: int64"
      ]
     },
     "execution_count": 258,
     "metadata": {},
     "output_type": "execute_result"
    }
   ],
   "source": [
    "earliest_cr_year = pd.Series(df['earliest_cr_year'].value_counts().sort_index())\n",
    "earliest_cr_year"
   ]
  },
  {
   "cell_type": "code",
   "execution_count": 259,
   "id": "607b200c",
   "metadata": {},
   "outputs": [
    {
     "data": {
      "text/plain": [
       "3       99\n",
       "4      791\n",
       "5     2133\n",
       "6     3156\n",
       "7     3874\n",
       "      ... \n",
       "63       2\n",
       "65       3\n",
       "66       3\n",
       "68       1\n",
       "72       1\n",
       "Name: earliest_cr_year, Length: 65, dtype: int64"
      ]
     },
     "execution_count": 259,
     "metadata": {},
     "output_type": "execute_result"
    }
   ],
   "source": [
    "earliest_cr_year_fp = pd.Series(df[df['loan_status']=='Fully Paid']['earliest_cr_year'].value_counts().sort_index())\n",
    "earliest_cr_year"
   ]
  },
  {
   "cell_type": "code",
   "execution_count": 260,
   "id": "f8662488",
   "metadata": {},
   "outputs": [
    {
     "name": "stdout",
     "output_type": "stream",
     "text": [
      "earliest_cr_year  earliest_cr_year_fp\n",
      "False             False                  64\n",
      "                  True                    1\n",
      "dtype: int64\n"
     ]
    }
   ],
   "source": [
    "cr_line = pd.concat([earliest_cr_year,earliest_cr_year_fp],axis=1,keys=['earliest_cr_year','earliest_cr_year_fp'])\n",
    "#cr_line\n",
    "print(cr_line.isna().value_counts())\n"
   ]
  },
  {
   "cell_type": "code",
   "execution_count": 261,
   "id": "a1d9025b",
   "metadata": {},
   "outputs": [
    {
     "name": "stdout",
     "output_type": "stream",
     "text": [
      "earliest_cr_year  earliest_cr_year_fp\n",
      "False             False                  65\n",
      "dtype: int64\n",
      "    earliest_cr_year  earliest_cr_year_fp\n",
      "3                 99                 93.0\n",
      "4                791                608.0\n",
      "5               2133               1556.0\n",
      "6               3156               2295.0\n",
      "7               3874               2852.0\n",
      "..               ...                  ...\n",
      "63                 2                  2.0\n",
      "65                 3                  2.0\n",
      "66                 3                  3.0\n",
      "68                 1                  1.0\n",
      "72                 1                  0.0\n",
      "\n",
      "[65 rows x 2 columns]\n"
     ]
    }
   ],
   "source": [
    "cr_line.fillna(0,inplace=True)\n",
    "print(cr_line.isna().value_counts())\n",
    "print(cr_line)"
   ]
  },
  {
   "cell_type": "code",
   "execution_count": 262,
   "id": "0315a9a6",
   "metadata": {},
   "outputs": [
    {
     "data": {
      "text/html": [
       "<div>\n",
       "<style scoped>\n",
       "    .dataframe tbody tr th:only-of-type {\n",
       "        vertical-align: middle;\n",
       "    }\n",
       "\n",
       "    .dataframe tbody tr th {\n",
       "        vertical-align: top;\n",
       "    }\n",
       "\n",
       "    .dataframe thead th {\n",
       "        text-align: right;\n",
       "    }\n",
       "</style>\n",
       "<table border=\"1\" class=\"dataframe\">\n",
       "  <thead>\n",
       "    <tr style=\"text-align: right;\">\n",
       "      <th></th>\n",
       "      <th>earliest_cr_year</th>\n",
       "      <th>earliest_cr_year_fp</th>\n",
       "      <th>perc</th>\n",
       "    </tr>\n",
       "  </thead>\n",
       "  <tbody>\n",
       "    <tr>\n",
       "      <th>3</th>\n",
       "      <td>99</td>\n",
       "      <td>93.0</td>\n",
       "      <td>0.939394</td>\n",
       "    </tr>\n",
       "    <tr>\n",
       "      <th>4</th>\n",
       "      <td>791</td>\n",
       "      <td>608.0</td>\n",
       "      <td>0.768647</td>\n",
       "    </tr>\n",
       "    <tr>\n",
       "      <th>5</th>\n",
       "      <td>2133</td>\n",
       "      <td>1556.0</td>\n",
       "      <td>0.729489</td>\n",
       "    </tr>\n",
       "    <tr>\n",
       "      <th>6</th>\n",
       "      <td>3156</td>\n",
       "      <td>2295.0</td>\n",
       "      <td>0.727186</td>\n",
       "    </tr>\n",
       "    <tr>\n",
       "      <th>7</th>\n",
       "      <td>3874</td>\n",
       "      <td>2852.0</td>\n",
       "      <td>0.736190</td>\n",
       "    </tr>\n",
       "    <tr>\n",
       "      <th>...</th>\n",
       "      <td>...</td>\n",
       "      <td>...</td>\n",
       "      <td>...</td>\n",
       "    </tr>\n",
       "    <tr>\n",
       "      <th>63</th>\n",
       "      <td>2</td>\n",
       "      <td>2.0</td>\n",
       "      <td>1.000000</td>\n",
       "    </tr>\n",
       "    <tr>\n",
       "      <th>65</th>\n",
       "      <td>3</td>\n",
       "      <td>2.0</td>\n",
       "      <td>0.666667</td>\n",
       "    </tr>\n",
       "    <tr>\n",
       "      <th>66</th>\n",
       "      <td>3</td>\n",
       "      <td>3.0</td>\n",
       "      <td>1.000000</td>\n",
       "    </tr>\n",
       "    <tr>\n",
       "      <th>68</th>\n",
       "      <td>1</td>\n",
       "      <td>1.0</td>\n",
       "      <td>1.000000</td>\n",
       "    </tr>\n",
       "    <tr>\n",
       "      <th>72</th>\n",
       "      <td>1</td>\n",
       "      <td>0.0</td>\n",
       "      <td>NaN</td>\n",
       "    </tr>\n",
       "  </tbody>\n",
       "</table>\n",
       "<p>65 rows × 3 columns</p>\n",
       "</div>"
      ],
      "text/plain": [
       "    earliest_cr_year  earliest_cr_year_fp      perc\n",
       "3                 99                 93.0  0.939394\n",
       "4                791                608.0  0.768647\n",
       "5               2133               1556.0  0.729489\n",
       "6               3156               2295.0  0.727186\n",
       "7               3874               2852.0  0.736190\n",
       "..               ...                  ...       ...\n",
       "63                 2                  2.0  1.000000\n",
       "65                 3                  2.0  0.666667\n",
       "66                 3                  3.0  1.000000\n",
       "68                 1                  1.0  1.000000\n",
       "72                 1                  0.0       NaN\n",
       "\n",
       "[65 rows x 3 columns]"
      ]
     },
     "execution_count": 262,
     "metadata": {},
     "output_type": "execute_result"
    }
   ],
   "source": [
    "cr_line['perc'] = earliest_cr_year_fp/earliest_cr_year\n",
    "cr_line"
   ]
  },
  {
   "cell_type": "markdown",
   "id": "6ea966b8",
   "metadata": {},
   "source": [
    "**Creating a plot showing the percentages of fully paid counts per year counts**"
   ]
  },
  {
   "cell_type": "code",
   "execution_count": 263,
   "id": "8a96272d",
   "metadata": {},
   "outputs": [
    {
     "data": {
      "text/plain": [
       "<AxesSubplot:ylabel='perc'>"
      ]
     },
     "execution_count": 263,
     "metadata": {},
     "output_type": "execute_result"
    },
    {
     "data": {
      "image/png": "[encoded data removed]",
      "text/plain": [
       "<Figure size 1080x360 with 1 Axes>"
      ]
     },
     "metadata": {
      "needs_background": "light"
     },
     "output_type": "display_data"
    }
   ],
   "source": [
    "plt.figure(figsize=(15,5))\n",
    "sns.barplot(data=cr_line,x=cr_line.index,y='perc',color='blue')"
   ]
  },
  {
   "cell_type": "markdown",
   "id": "1a25a3e3",
   "metadata": {},
   "source": [
    "**It can be seen that the distribution is somewhat symmetrical around the 30s.The values on the edges are inconsistent due to low amount of counts (below 5 years above 40 years)**"
   ]
  },
  {
   "cell_type": "markdown",
   "id": "98722ae5",
   "metadata": {},
   "source": [
    "**Dropping the original \"earliest_cr_line\" column**"
   ]
  },
  {
   "cell_type": "code",
   "execution_count": 264,
   "id": "2b331157",
   "metadata": {},
   "outputs": [],
   "source": [
    "df.drop('earliest_cr_line',axis=1,inplace=True)"
   ]
  },
  {
   "cell_type": "markdown",
   "id": "5339cbc6",
   "metadata": {},
   "source": [
    "# Data PreProcessing\n",
    "\n",
    "**Section Goals: Remove or fill any missing data. Remove unnecessary or repetitive features. Convert categorical string features to dummy variables.**\n",
    "\n"
   ]
  },
  {
   "cell_type": "markdown",
   "id": "6258cf3c",
   "metadata": {},
   "source": [
    "## Missing Data"
   ]
  },
  {
   "cell_type": "markdown",
   "id": "94249336",
   "metadata": {},
   "source": [
    "**Checking length of the dataframe**"
   ]
  },
  {
   "cell_type": "code",
   "execution_count": 265,
   "id": "da42dd60",
   "metadata": {},
   "outputs": [
    {
     "data": {
      "text/plain": [
       "396030"
      ]
     },
     "execution_count": 265,
     "metadata": {},
     "output_type": "execute_result"
    }
   ],
   "source": [
    "len(df)"
   ]
  },
  {
   "cell_type": "markdown",
   "id": "31f94634",
   "metadata": {},
   "source": [
    "**Creating a Series that displays the total count of missing values per column**"
   ]
  },
  {
   "cell_type": "code",
   "execution_count": 266,
   "id": "662f5db4",
   "metadata": {},
   "outputs": [
    {
     "data": {
      "text/plain": [
       "loan_amnt                   0\n",
       "term                        0\n",
       "int_rate                    0\n",
       "installment                 0\n",
       "grade                       0\n",
       "sub_grade                   0\n",
       "emp_title               22927\n",
       "emp_length              18301\n",
       "home_ownership              0\n",
       "annual_inc                  0\n",
       "verification_status         0\n",
       "issue_d                     0\n",
       "loan_status                 0\n",
       "purpose                     0\n",
       "title                    1755\n",
       "dti                         0\n",
       "open_acc                    0\n",
       "pub_rec                     0\n",
       "revol_bal                   0\n",
       "revol_util                276\n",
       "total_acc                   0\n",
       "initial_list_status         0\n",
       "application_type            0\n",
       "mort_acc                37795\n",
       "pub_rec_bankruptcies      535\n",
       "address                     0\n",
       "loan_repaid                 0\n",
       "earliest_cr_year            0\n",
       "dtype: int64"
      ]
     },
     "execution_count": 266,
     "metadata": {},
     "output_type": "execute_result"
    }
   ],
   "source": [
    "df.isnull().sum()"
   ]
  },
  {
   "cell_type": "markdown",
   "id": "ffb0f758",
   "metadata": {},
   "source": [
    "**Converting the series created above to be in term of percentage of the total DataFrame**"
   ]
  },
  {
   "cell_type": "code",
   "execution_count": 267,
   "id": "21ba82f4",
   "metadata": {},
   "outputs": [
    {
     "data": {
      "text/plain": [
       "loan_amnt               0.0\n",
       "term                    0.0\n",
       "int_rate                0.0\n",
       "installment             0.0\n",
       "grade                   0.0\n",
       "sub_grade               0.0\n",
       "emp_title               5.8\n",
       "emp_length              4.6\n",
       "home_ownership          0.0\n",
       "annual_inc              0.0\n",
       "verification_status     0.0\n",
       "issue_d                 0.0\n",
       "loan_status             0.0\n",
       "purpose                 0.0\n",
       "title                   0.4\n",
       "dti                     0.0\n",
       "open_acc                0.0\n",
       "pub_rec                 0.0\n",
       "revol_bal               0.0\n",
       "revol_util              0.1\n",
       "total_acc               0.0\n",
       "initial_list_status     0.0\n",
       "application_type        0.0\n",
       "mort_acc                9.5\n",
       "pub_rec_bankruptcies    0.1\n",
       "address                 0.0\n",
       "loan_repaid             0.0\n",
       "earliest_cr_year        0.0\n",
       "dtype: float64"
      ]
     },
     "execution_count": 267,
     "metadata": {},
     "output_type": "execute_result"
    }
   ],
   "source": [
    "df.isnull().sum().apply(lambda x: round((x/len(df)),3)*100)"
   ]
  },
  {
   "cell_type": "markdown",
   "id": "2c07b16c",
   "metadata": {},
   "source": [
    "**Checking if \"emp_title\" can be dropped**"
   ]
  },
  {
   "cell_type": "code",
   "execution_count": 268,
   "id": "5e0b9c55",
   "metadata": {},
   "outputs": [
    {
     "name": "stdout",
     "output_type": "stream",
     "text": [
      "Employment length in years. Possible values are between 0 and 10 where 0 means less than one year and 10 means ten or more years. \n"
     ]
    }
   ],
   "source": [
    "feat_info('emp_length')"
   ]
  },
  {
   "cell_type": "markdown",
   "id": "38ab3243",
   "metadata": {},
   "source": [
    "**Checking how many job titles are there**"
   ]
  },
  {
   "cell_type": "code",
   "execution_count": 269,
   "id": "666141eb",
   "metadata": {},
   "outputs": [
    {
     "data": {
      "text/plain": [
       "Teacher                    4389\n",
       "Manager                    4250\n",
       "Registered Nurse           1856\n",
       "RN                         1846\n",
       "Supervisor                 1830\n",
       "                           ... \n",
       "Postman                       1\n",
       "McCarthy & Holthus, LLC       1\n",
       "jp flooring                   1\n",
       "Histology Technologist        1\n",
       "Gracon Services, Inc          1\n",
       "Name: emp_title, Length: 173105, dtype: int64"
      ]
     },
     "execution_count": 269,
     "metadata": {},
     "output_type": "execute_result"
    }
   ],
   "source": [
    "df['emp_title'].value_counts()\n",
    "#df['emp_title'].nunique()"
   ]
  },
  {
   "cell_type": "markdown",
   "id": "e3c88a00",
   "metadata": {},
   "source": [
    "**=> Too many unique job titles to convert to a dummy variable feature. Dropping feature**"
   ]
  },
  {
   "cell_type": "code",
   "execution_count": 270,
   "id": "b58150d0",
   "metadata": {},
   "outputs": [],
   "source": [
    "df.drop('emp_title',axis=1,inplace=True)"
   ]
  },
  {
   "cell_type": "code",
   "execution_count": 271,
   "id": "88403467",
   "metadata": {},
   "outputs": [
    {
     "name": "stdout",
     "output_type": "stream",
     "text": [
      "<class 'pandas.core.frame.DataFrame'>\n",
      "RangeIndex: 396030 entries, 0 to 396029\n",
      "Data columns (total 27 columns):\n",
      " #   Column                Non-Null Count   Dtype  \n",
      "---  ------                --------------   -----  \n",
      " 0   loan_amnt             396030 non-null  float64\n",
      " 1   term                  396030 non-null  object \n",
      " 2   int_rate              396030 non-null  float64\n",
      " 3   installment           396030 non-null  float64\n",
      " 4   grade                 396030 non-null  object \n",
      " 5   sub_grade             396030 non-null  object \n",
      " 6   emp_length            377729 non-null  object \n",
      " 7   home_ownership        396030 non-null  object \n",
      " 8   annual_inc            396030 non-null  float64\n",
      " 9   verification_status   396030 non-null  object \n",
      " 10  issue_d               396030 non-null  object \n",
      " 11  loan_status           396030 non-null  object \n",
      " 12  purpose               396030 non-null  object \n",
      " 13  title                 394275 non-null  object \n",
      " 14  dti                   396030 non-null  float64\n",
      " 15  open_acc              396030 non-null  float64\n",
      " 16  pub_rec               396030 non-null  float64\n",
      " 17  revol_bal             396030 non-null  float64\n",
      " 18  revol_util            395754 non-null  float64\n",
      " 19  total_acc             396030 non-null  float64\n",
      " 20  initial_list_status   396030 non-null  object \n",
      " 21  application_type      396030 non-null  object \n",
      " 22  mort_acc              358235 non-null  float64\n",
      " 23  pub_rec_bankruptcies  395495 non-null  float64\n",
      " 24  address               396030 non-null  object \n",
      " 25  loan_repaid           396030 non-null  int64  \n",
      " 26  earliest_cr_year      396030 non-null  int64  \n",
      "dtypes: float64(12), int64(2), object(13)\n",
      "memory usage: 81.6+ MB\n"
     ]
    }
   ],
   "source": [
    "df.info()"
   ]
  },
  {
   "cell_type": "markdown",
   "id": "3d474056",
   "metadata": {},
   "source": [
    "**Checking if \"emp_length\" feature can be dropped**"
   ]
  },
  {
   "cell_type": "markdown",
   "id": "ed40372e",
   "metadata": {},
   "source": [
    "**Creating a count plot of the emp_length feature column, sorting the order of the values.**"
   ]
  },
  {
   "cell_type": "code",
   "execution_count": 272,
   "id": "8835ecc4",
   "metadata": {},
   "outputs": [
    {
     "data": {
      "text/plain": [
       "array(['10+ years', '4 years', '< 1 year', '6 years', '9 years',\n",
       "       '2 years', '3 years', '8 years', '7 years', '5 years', '1 year',\n",
       "       nan], dtype=object)"
      ]
     },
     "execution_count": 272,
     "metadata": {},
     "output_type": "execute_result"
    }
   ],
   "source": [
    "emp_length = df['emp_length'].unique()\n",
    "emp_length"
   ]
  },
  {
   "cell_type": "code",
   "execution_count": 273,
   "id": "2a2aff40",
   "metadata": {},
   "outputs": [
    {
     "data": {
      "text/plain": [
       "array(['< 1 year', '1 year', '2 years', '3 years', '4 years', '5 years',\n",
       "       '6 years', '7 years', '8 years', '9 years', '10+ years'],\n",
       "      dtype='<U9')"
      ]
     },
     "execution_count": 273,
     "metadata": {},
     "output_type": "execute_result"
    }
   ],
   "source": [
    "emp_length_sorted = sorted(np.delete(emp_length,[0,2,11]))\n",
    "emp_length_sorted.append(emp_length[0])\n",
    "emp_length_sorted = np.insert(emp_length_sorted,0,emp_length[2])\n",
    "emp_length_sorted"
   ]
  },
  {
   "cell_type": "code",
   "execution_count": 274,
   "id": "5e4d9f75",
   "metadata": {},
   "outputs": [
    {
     "data": {
      "text/plain": [
       "<AxesSubplot:xlabel='emp_length', ylabel='count'>"
      ]
     },
     "execution_count": 274,
     "metadata": {},
     "output_type": "execute_result"
    },
    {
     "data": {
      "image/png": "[encoded data removed]",
      "text/plain": [
       "<Figure size 864x360 with 1 Axes>"
      ]
     },
     "metadata": {
      "needs_background": "light"
     },
     "output_type": "display_data"
    }
   ],
   "source": [
    "plt.figure(figsize=(12,5))\n",
    "sns.countplot(data=df,x='emp_length',order=emp_length_sorted,color='blue')"
   ]
  },
  {
   "cell_type": "markdown",
   "id": "a5b1471c",
   "metadata": {},
   "source": [
    "**Creating a count plot of the emp_length feature column with hue \"Fully Paid\" vs \"Charged Off\"**"
   ]
  },
  {
   "cell_type": "code",
   "execution_count": 275,
   "id": "f1cb49b6",
   "metadata": {},
   "outputs": [
    {
     "data": {
      "text/plain": [
       "<AxesSubplot:xlabel='emp_length', ylabel='count'>"
      ]
     },
     "execution_count": 275,
     "metadata": {},
     "output_type": "execute_result"
    },
    {
     "data": {
      "image/png": "[encoded data removed]",
      "text/plain": [
       "<Figure size 864x360 with 1 Axes>"
      ]
     },
     "metadata": {
      "needs_background": "light"
     },
     "output_type": "display_data"
    }
   ],
   "source": [
    "plt.figure(figsize=(12,5))\n",
    "sns.countplot(data=df,x='emp_length',hue='loan_status',order=emp_length_sorted,palette='coolwarm')"
   ]
  },
  {
   "cell_type": "markdown",
   "id": "fde8cef3",
   "metadata": {},
   "source": [
    "**Creating a plot showing what percentage of people per employment category didn't pay back their loan**"
   ]
  },
  {
   "cell_type": "code",
   "execution_count": 276,
   "id": "352dfda0",
   "metadata": {},
   "outputs": [],
   "source": [
    "emp_length_all = df.groupby('emp_length').count()['loan_status']"
   ]
  },
  {
   "cell_type": "code",
   "execution_count": 277,
   "id": "d32958d0",
   "metadata": {},
   "outputs": [
    {
     "data": {
      "text/plain": [
       "emp_length\n",
       "1 year        5154\n",
       "10+ years    23215\n",
       "2 years       6924\n",
       "3 years       6182\n",
       "4 years       4608\n",
       "5 years       5092\n",
       "6 years       3943\n",
       "7 years       4055\n",
       "8 years       3829\n",
       "9 years       3070\n",
       "< 1 year      6563\n",
       "Name: loan_status, dtype: int64"
      ]
     },
     "execution_count": 277,
     "metadata": {},
     "output_type": "execute_result"
    }
   ],
   "source": [
    "emp_length_CO = df[df['loan_status']=='Charged Off'].groupby('emp_length').count()['loan_status']\n",
    "emp_length_CO"
   ]
  },
  {
   "cell_type": "code",
   "execution_count": 278,
   "id": "ccb6c8e7",
   "metadata": {},
   "outputs": [
    {
     "data": {
      "text/plain": [
       "emp_length\n",
       "1 year        20728\n",
       "10+ years    102826\n",
       "2 years       28903\n",
       "3 years       25483\n",
       "4 years       19344\n",
       "5 years       21403\n",
       "6 years       16898\n",
       "7 years       16764\n",
       "8 years       15339\n",
       "9 years       12244\n",
       "< 1 year      25162\n",
       "Name: loan_status, dtype: int64"
      ]
     },
     "execution_count": 278,
     "metadata": {},
     "output_type": "execute_result"
    }
   ],
   "source": [
    "emp_length_FP = df[df['loan_status']=='Fully Paid'].groupby('emp_length').count()['loan_status']\n",
    "emp_length_FP"
   ]
  },
  {
   "cell_type": "code",
   "execution_count": 279,
   "id": "243aea9b",
   "metadata": {},
   "outputs": [
    {
     "data": {
      "text/html": [
       "<div>\n",
       "<style scoped>\n",
       "    .dataframe tbody tr th:only-of-type {\n",
       "        vertical-align: middle;\n",
       "    }\n",
       "\n",
       "    .dataframe tbody tr th {\n",
       "        vertical-align: top;\n",
       "    }\n",
       "\n",
       "    .dataframe thead th {\n",
       "        text-align: right;\n",
       "    }\n",
       "</style>\n",
       "<table border=\"1\" class=\"dataframe\">\n",
       "  <thead>\n",
       "    <tr style=\"text-align: right;\">\n",
       "      <th>emp_length</th>\n",
       "      <th>1 year</th>\n",
       "      <th>10+ years</th>\n",
       "      <th>2 years</th>\n",
       "      <th>3 years</th>\n",
       "      <th>4 years</th>\n",
       "      <th>5 years</th>\n",
       "      <th>6 years</th>\n",
       "      <th>7 years</th>\n",
       "      <th>8 years</th>\n",
       "      <th>9 years</th>\n",
       "      <th>&lt; 1 year</th>\n",
       "    </tr>\n",
       "  </thead>\n",
       "  <tbody>\n",
       "    <tr>\n",
       "      <th>Charged Off</th>\n",
       "      <td>5154</td>\n",
       "      <td>23215</td>\n",
       "      <td>6924</td>\n",
       "      <td>6182</td>\n",
       "      <td>4608</td>\n",
       "      <td>5092</td>\n",
       "      <td>3943</td>\n",
       "      <td>4055</td>\n",
       "      <td>3829</td>\n",
       "      <td>3070</td>\n",
       "      <td>6563</td>\n",
       "    </tr>\n",
       "    <tr>\n",
       "      <th>Fully Paid</th>\n",
       "      <td>20728</td>\n",
       "      <td>102826</td>\n",
       "      <td>28903</td>\n",
       "      <td>25483</td>\n",
       "      <td>19344</td>\n",
       "      <td>21403</td>\n",
       "      <td>16898</td>\n",
       "      <td>16764</td>\n",
       "      <td>15339</td>\n",
       "      <td>12244</td>\n",
       "      <td>25162</td>\n",
       "    </tr>\n",
       "    <tr>\n",
       "      <th>Sum</th>\n",
       "      <td>25882</td>\n",
       "      <td>126041</td>\n",
       "      <td>35827</td>\n",
       "      <td>31665</td>\n",
       "      <td>23952</td>\n",
       "      <td>26495</td>\n",
       "      <td>20841</td>\n",
       "      <td>20819</td>\n",
       "      <td>19168</td>\n",
       "      <td>15314</td>\n",
       "      <td>31725</td>\n",
       "    </tr>\n",
       "  </tbody>\n",
       "</table>\n",
       "</div>"
      ],
      "text/plain": [
       "emp_length   1 year  10+ years  2 years  3 years  4 years  5 years  6 years  \\\n",
       "Charged Off    5154      23215     6924     6182     4608     5092     3943   \n",
       "Fully Paid    20728     102826    28903    25483    19344    21403    16898   \n",
       "Sum           25882     126041    35827    31665    23952    26495    20841   \n",
       "\n",
       "emp_length   7 years  8 years  9 years  < 1 year  \n",
       "Charged Off     4055     3829     3070      6563  \n",
       "Fully Paid     16764    15339    12244     25162  \n",
       "Sum            20819    19168    15314     31725  "
      ]
     },
     "execution_count": 279,
     "metadata": {},
     "output_type": "execute_result"
    }
   ],
   "source": [
    "df_ls_empl = pd.DataFrame(data=[emp_length_CO,emp_length_FP,emp_length_all],index=['Charged Off','Fully Paid','Sum'])\n",
    "#df_ls_empl = df_ls_empl.transpose()\n",
    "df_ls_empl"
   ]
  },
  {
   "cell_type": "code",
   "execution_count": 280,
   "id": "c01c9b40",
   "metadata": {},
   "outputs": [
    {
     "name": "stdout",
     "output_type": "stream",
     "text": [
      "5154\n",
      "25882\n",
      "0.19913453365273162\n"
     ]
    }
   ],
   "source": [
    "print(emp_length_CO.iloc[0])\n",
    "print(emp_length_all.iloc[0])\n",
    "print(emp_length_CO.iloc[0]/emp_length_all.iloc[0])                                         "
   ]
  },
  {
   "cell_type": "code",
   "execution_count": 281,
   "id": "ab17f82e",
   "metadata": {},
   "outputs": [
    {
     "data": {
      "text/plain": [
       "emp_length\n",
       "10+ years    0.184186\n",
       "6 years      0.189194\n",
       "5 years      0.192187\n",
       "4 years      0.192385\n",
       "2 years      0.193262\n",
       "7 years      0.194774\n",
       "3 years      0.195231\n",
       "1 year       0.199135\n",
       "8 years      0.199760\n",
       "9 years      0.200470\n",
       "< 1 year     0.206872\n",
       "Name: loan_status, dtype: float64"
      ]
     },
     "execution_count": 281,
     "metadata": {},
     "output_type": "execute_result"
    }
   ],
   "source": [
    "emp_len_perc = emp_length_CO/emp_length_all   \n",
    "emp_len_perc = emp_len_perc.sort_values()\n",
    "emp_len_perc"
   ]
  },
  {
   "cell_type": "markdown",
   "id": "09c3b5d6",
   "metadata": {},
   "source": [
    "**Showing a plot showing percentage of people per employment category didn't pay back their loan**"
   ]
  },
  {
   "cell_type": "code",
   "execution_count": 282,
   "id": "2ea45252",
   "metadata": {},
   "outputs": [
    {
     "data": {
      "text/plain": [
       "<AxesSubplot:xlabel='emp_length'>"
      ]
     },
     "execution_count": 282,
     "metadata": {},
     "output_type": "execute_result"
    },
    {
     "data": {
      "image/png": "[encoded data removed]",
      "text/plain": [
       "<Figure size 864x360 with 1 Axes>"
      ]
     },
     "metadata": {
      "needs_background": "light"
     },
     "output_type": "display_data"
    }
   ],
   "source": [
    "emp_len_perc.plot.bar(figsize=(12,5))"
   ]
  },
  {
   "cell_type": "markdown",
   "id": "d22a04e8",
   "metadata": {},
   "source": [
    "**=> Employment length does not have a signifcant impact in loan pay back. Dropping the emp_length column.**"
   ]
  },
  {
   "cell_type": "code",
   "execution_count": 283,
   "id": "dde644d1",
   "metadata": {},
   "outputs": [],
   "source": [
    "df.drop('emp_length',axis=1,inplace=True)"
   ]
  },
  {
   "cell_type": "markdown",
   "id": "6aa6c4dd",
   "metadata": {},
   "source": [
    "**Checking dataframe to see what feature columns still have missing data.**"
   ]
  },
  {
   "cell_type": "code",
   "execution_count": 284,
   "id": "d03c8872",
   "metadata": {},
   "outputs": [
    {
     "data": {
      "text/plain": [
       "loan_amnt                   0\n",
       "term                        0\n",
       "int_rate                    0\n",
       "installment                 0\n",
       "grade                       0\n",
       "sub_grade                   0\n",
       "home_ownership              0\n",
       "annual_inc                  0\n",
       "verification_status         0\n",
       "issue_d                     0\n",
       "loan_status                 0\n",
       "purpose                     0\n",
       "title                    1755\n",
       "dti                         0\n",
       "open_acc                    0\n",
       "pub_rec                     0\n",
       "revol_bal                   0\n",
       "revol_util                276\n",
       "total_acc                   0\n",
       "initial_list_status         0\n",
       "application_type            0\n",
       "mort_acc                37795\n",
       "pub_rec_bankruptcies      535\n",
       "address                     0\n",
       "loan_repaid                 0\n",
       "earliest_cr_year            0\n",
       "dtype: int64"
      ]
     },
     "execution_count": 284,
     "metadata": {},
     "output_type": "execute_result"
    }
   ],
   "source": [
    "df.isnull().sum()"
   ]
  },
  {
   "cell_type": "markdown",
   "id": "66a710f3",
   "metadata": {},
   "source": [
    "**Checking if the \"title\" column and \"purpose\" column have repeated information**"
   ]
  },
  {
   "cell_type": "code",
   "execution_count": 285,
   "id": "2c619cf3",
   "metadata": {},
   "outputs": [
    {
     "data": {
      "text/html": [
       "<div>\n",
       "<style scoped>\n",
       "    .dataframe tbody tr th:only-of-type {\n",
       "        vertical-align: middle;\n",
       "    }\n",
       "\n",
       "    .dataframe tbody tr th {\n",
       "        vertical-align: top;\n",
       "    }\n",
       "\n",
       "    .dataframe thead th {\n",
       "        text-align: right;\n",
       "    }\n",
       "</style>\n",
       "<table border=\"1\" class=\"dataframe\">\n",
       "  <thead>\n",
       "    <tr style=\"text-align: right;\">\n",
       "      <th></th>\n",
       "      <th>title</th>\n",
       "      <th>purpose</th>\n",
       "    </tr>\n",
       "  </thead>\n",
       "  <tbody>\n",
       "    <tr>\n",
       "      <th>0</th>\n",
       "      <td>Vacation</td>\n",
       "      <td>vacation</td>\n",
       "    </tr>\n",
       "    <tr>\n",
       "      <th>1</th>\n",
       "      <td>Debt consolidation</td>\n",
       "      <td>debt_consolidation</td>\n",
       "    </tr>\n",
       "    <tr>\n",
       "      <th>2</th>\n",
       "      <td>Credit card refinancing</td>\n",
       "      <td>credit_card</td>\n",
       "    </tr>\n",
       "    <tr>\n",
       "      <th>3</th>\n",
       "      <td>Credit card refinancing</td>\n",
       "      <td>credit_card</td>\n",
       "    </tr>\n",
       "    <tr>\n",
       "      <th>4</th>\n",
       "      <td>Credit Card Refinance</td>\n",
       "      <td>credit_card</td>\n",
       "    </tr>\n",
       "    <tr>\n",
       "      <th>...</th>\n",
       "      <td>...</td>\n",
       "      <td>...</td>\n",
       "    </tr>\n",
       "    <tr>\n",
       "      <th>396025</th>\n",
       "      <td>Debt consolidation</td>\n",
       "      <td>debt_consolidation</td>\n",
       "    </tr>\n",
       "    <tr>\n",
       "      <th>396026</th>\n",
       "      <td>Debt consolidation</td>\n",
       "      <td>debt_consolidation</td>\n",
       "    </tr>\n",
       "    <tr>\n",
       "      <th>396027</th>\n",
       "      <td>pay off credit cards</td>\n",
       "      <td>debt_consolidation</td>\n",
       "    </tr>\n",
       "    <tr>\n",
       "      <th>396028</th>\n",
       "      <td>Loanforpayoff</td>\n",
       "      <td>debt_consolidation</td>\n",
       "    </tr>\n",
       "    <tr>\n",
       "      <th>396029</th>\n",
       "      <td>Toxic Debt Payoff</td>\n",
       "      <td>debt_consolidation</td>\n",
       "    </tr>\n",
       "  </tbody>\n",
       "</table>\n",
       "<p>396030 rows × 2 columns</p>\n",
       "</div>"
      ],
      "text/plain": [
       "                          title             purpose\n",
       "0                      Vacation            vacation\n",
       "1            Debt consolidation  debt_consolidation\n",
       "2       Credit card refinancing         credit_card\n",
       "3       Credit card refinancing         credit_card\n",
       "4         Credit Card Refinance         credit_card\n",
       "...                         ...                 ...\n",
       "396025       Debt consolidation  debt_consolidation\n",
       "396026       Debt consolidation  debt_consolidation\n",
       "396027     pay off credit cards  debt_consolidation\n",
       "396028            Loanforpayoff  debt_consolidation\n",
       "396029        Toxic Debt Payoff  debt_consolidation\n",
       "\n",
       "[396030 rows x 2 columns]"
      ]
     },
     "execution_count": 285,
     "metadata": {},
     "output_type": "execute_result"
    }
   ],
   "source": [
    "df[['title','purpose']]"
   ]
  },
  {
   "cell_type": "code",
   "execution_count": 286,
   "id": "125c3148",
   "metadata": {},
   "outputs": [
    {
     "data": {
      "text/plain": [
       "0                   Vacation\n",
       "1         Debt consolidation\n",
       "2    Credit card refinancing\n",
       "3    Credit card refinancing\n",
       "4      Credit Card Refinance\n",
       "5         Debt consolidation\n",
       "6           Home improvement\n",
       "7       No More Credit Cards\n",
       "8         Debt consolidation\n",
       "9         Debt Consolidation\n",
       "Name: title, dtype: object"
      ]
     },
     "execution_count": 286,
     "metadata": {},
     "output_type": "execute_result"
    }
   ],
   "source": [
    "df['title'].head(10)"
   ]
  },
  {
   "cell_type": "markdown",
   "id": "51bb3494",
   "metadata": {},
   "source": [
    "**=> The \"title\" column is simply a string subcategory/description of the \"purpose\" column. Dropping the \"title\" column.**"
   ]
  },
  {
   "cell_type": "code",
   "execution_count": 287,
   "id": "289c7c86",
   "metadata": {},
   "outputs": [],
   "source": [
    "df.drop('title',axis=1,inplace=True)"
   ]
  },
  {
   "cell_type": "markdown",
   "id": "5b8aa470",
   "metadata": {},
   "source": [
    "**Checking what the \"mort_acc\" feature represents**"
   ]
  },
  {
   "cell_type": "code",
   "execution_count": 288,
   "id": "ba30ab33",
   "metadata": {},
   "outputs": [
    {
     "name": "stdout",
     "output_type": "stream",
     "text": [
      "Number of mortgage accounts.\n"
     ]
    }
   ],
   "source": [
    "feat_info('mort_acc')"
   ]
  },
  {
   "cell_type": "markdown",
   "id": "3aa02009",
   "metadata": {},
   "source": [
    "**Creating a value_counts of the mort_acc column.**"
   ]
  },
  {
   "cell_type": "code",
   "execution_count": 289,
   "id": "8df8acfe",
   "metadata": {},
   "outputs": [
    {
     "data": {
      "text/plain": [
       "0.0     139777\n",
       "1.0      60416\n",
       "2.0      49948\n",
       "3.0      38049\n",
       "4.0      27887\n",
       "5.0      18194\n",
       "6.0      11069\n",
       "7.0       6052\n",
       "8.0       3121\n",
       "9.0       1656\n",
       "10.0       865\n",
       "11.0       479\n",
       "12.0       264\n",
       "13.0       146\n",
       "14.0       107\n",
       "15.0        61\n",
       "16.0        37\n",
       "17.0        22\n",
       "18.0        18\n",
       "19.0        15\n",
       "20.0        13\n",
       "24.0        10\n",
       "22.0         7\n",
       "21.0         4\n",
       "25.0         4\n",
       "27.0         3\n",
       "32.0         2\n",
       "31.0         2\n",
       "23.0         2\n",
       "26.0         2\n",
       "28.0         1\n",
       "30.0         1\n",
       "34.0         1\n",
       "Name: mort_acc, dtype: int64"
      ]
     },
     "execution_count": 289,
     "metadata": {},
     "output_type": "execute_result"
    }
   ],
   "source": [
    "df['mort_acc'].value_counts()"
   ]
  },
  {
   "cell_type": "markdown",
   "id": "55cddf96",
   "metadata": {},
   "source": [
    "**Checking the other columns to see which most highly correlates to \"mort_acc\"**"
   ]
  },
  {
   "cell_type": "code",
   "execution_count": 290,
   "id": "52c4fb5b",
   "metadata": {},
   "outputs": [
    {
     "data": {
      "text/plain": [
       "int_rate               -0.082583\n",
       "dti                    -0.025439\n",
       "revol_util              0.007514\n",
       "pub_rec                 0.011552\n",
       "pub_rec_bankruptcies    0.027239\n",
       "loan_repaid             0.073111\n",
       "open_acc                0.109205\n",
       "installment             0.193694\n",
       "revol_bal               0.194925\n",
       "loan_amnt               0.222315\n",
       "annual_inc              0.236320\n",
       "earliest_cr_year        0.291298\n",
       "total_acc               0.381072\n",
       "mort_acc                1.000000\n",
       "Name: mort_acc, dtype: float64"
      ]
     },
     "execution_count": 290,
     "metadata": {},
     "output_type": "execute_result"
    }
   ],
   "source": [
    "df.corr()['mort_acc'].sort_values()"
   ]
  },
  {
   "cell_type": "markdown",
   "id": "2147ef13",
   "metadata": {},
   "source": [
    "**=> The total_acc feature correlates with the mort_acc best. To fill the missing values, the idea is to group the dataframe by the \"total_acc\" and calculate the mean value for the \"mort_acc\" per \"total_acc\" entry.**"
   ]
  },
  {
   "cell_type": "code",
   "execution_count": 291,
   "id": "6e882784",
   "metadata": {},
   "outputs": [
    {
     "data": {
      "text/html": [
       "<div>\n",
       "<style scoped>\n",
       "    .dataframe tbody tr th:only-of-type {\n",
       "        vertical-align: middle;\n",
       "    }\n",
       "\n",
       "    .dataframe tbody tr th {\n",
       "        vertical-align: top;\n",
       "    }\n",
       "\n",
       "    .dataframe thead th {\n",
       "        text-align: right;\n",
       "    }\n",
       "</style>\n",
       "<table border=\"1\" class=\"dataframe\">\n",
       "  <thead>\n",
       "    <tr style=\"text-align: right;\">\n",
       "      <th></th>\n",
       "      <th>total_acc</th>\n",
       "      <th>mort_acc</th>\n",
       "    </tr>\n",
       "  </thead>\n",
       "  <tbody>\n",
       "    <tr>\n",
       "      <th>count</th>\n",
       "      <td>396030.000000</td>\n",
       "      <td>358235.000000</td>\n",
       "    </tr>\n",
       "    <tr>\n",
       "      <th>mean</th>\n",
       "      <td>25.414744</td>\n",
       "      <td>1.813991</td>\n",
       "    </tr>\n",
       "    <tr>\n",
       "      <th>std</th>\n",
       "      <td>11.886991</td>\n",
       "      <td>2.147930</td>\n",
       "    </tr>\n",
       "    <tr>\n",
       "      <th>min</th>\n",
       "      <td>2.000000</td>\n",
       "      <td>0.000000</td>\n",
       "    </tr>\n",
       "    <tr>\n",
       "      <th>25%</th>\n",
       "      <td>17.000000</td>\n",
       "      <td>0.000000</td>\n",
       "    </tr>\n",
       "    <tr>\n",
       "      <th>50%</th>\n",
       "      <td>24.000000</td>\n",
       "      <td>1.000000</td>\n",
       "    </tr>\n",
       "    <tr>\n",
       "      <th>75%</th>\n",
       "      <td>32.000000</td>\n",
       "      <td>3.000000</td>\n",
       "    </tr>\n",
       "    <tr>\n",
       "      <th>max</th>\n",
       "      <td>151.000000</td>\n",
       "      <td>34.000000</td>\n",
       "    </tr>\n",
       "  </tbody>\n",
       "</table>\n",
       "</div>"
      ],
      "text/plain": [
       "           total_acc       mort_acc\n",
       "count  396030.000000  358235.000000\n",
       "mean       25.414744       1.813991\n",
       "std        11.886991       2.147930\n",
       "min         2.000000       0.000000\n",
       "25%        17.000000       0.000000\n",
       "50%        24.000000       1.000000\n",
       "75%        32.000000       3.000000\n",
       "max       151.000000      34.000000"
      ]
     },
     "execution_count": 291,
     "metadata": {},
     "output_type": "execute_result"
    }
   ],
   "source": [
    "df[['total_acc','mort_acc']].describe()"
   ]
  },
  {
   "cell_type": "code",
   "execution_count": 292,
   "id": "8a7a5762",
   "metadata": {},
   "outputs": [
    {
     "data": {
      "text/plain": [
       "total_acc\n",
       "2.0        16\n",
       "3.0       173\n",
       "4.0       869\n",
       "5.0      1520\n",
       "6.0      2320\n",
       "         ... \n",
       "124.0       1\n",
       "129.0       1\n",
       "135.0       1\n",
       "150.0       1\n",
       "151.0       1\n",
       "Name: mort_acc, Length: 118, dtype: int64"
      ]
     },
     "execution_count": 292,
     "metadata": {},
     "output_type": "execute_result"
    }
   ],
   "source": [
    "df.groupby('total_acc').count()['mort_acc']#.mean()['mort_acc']"
   ]
  },
  {
   "cell_type": "code",
   "execution_count": 293,
   "id": "731022cf",
   "metadata": {},
   "outputs": [
    {
     "data": {
      "text/plain": [
       "<AxesSubplot:xlabel='total_acc'>"
      ]
     },
     "execution_count": 293,
     "metadata": {},
     "output_type": "execute_result"
    },
    {
     "data": {
      "image/png": "[encoded data removed]",
      "text/plain": [
       "<Figure size 432x288 with 1 Axes>"
      ]
     },
     "metadata": {
      "needs_background": "light"
     },
     "output_type": "display_data"
    }
   ],
   "source": [
    "df.groupby('total_acc').count()['mort_acc'].plot()#.mean()['mort_acc']"
   ]
  },
  {
   "cell_type": "markdown",
   "id": "65df7f0c",
   "metadata": {},
   "source": [
    "**Checking for missing values in the \"mort_acc\" and \"total_acc\" columns**"
   ]
  },
  {
   "cell_type": "code",
   "execution_count": 294,
   "id": "38ffb4c7",
   "metadata": {},
   "outputs": [
    {
     "name": "stdout",
     "output_type": "stream",
     "text": [
      "False    358235\n",
      "True      37795\n",
      "Name: mort_acc, dtype: int64\n",
      "\n",
      "\n",
      "False    396030\n",
      "Name: total_acc, dtype: int64\n"
     ]
    }
   ],
   "source": [
    "print(df['mort_acc'].isnull().value_counts())\n",
    "print('\\n')\n",
    "print(df['total_acc'].isnull().value_counts())"
   ]
  },
  {
   "cell_type": "markdown",
   "id": "b9372f20",
   "metadata": {},
   "source": [
    "**Creating mean values for \"mort_acc\" for each \"total_acc\" category**"
   ]
  },
  {
   "cell_type": "code",
   "execution_count": 295,
   "id": "8cc8ecbc",
   "metadata": {},
   "outputs": [
    {
     "data": {
      "text/plain": [
       "total_acc\n",
       "2.0     0.000000\n",
       "3.0     0.052023\n",
       "4.0     0.066743\n",
       "5.0     0.103289\n",
       "6.0     0.151293\n",
       "7.0     0.221695\n",
       "8.0     0.308422\n",
       "9.0     0.365499\n",
       "10.0    0.429158\n",
       "11.0    0.526570\n",
       "Name: mort_acc, dtype: float64"
      ]
     },
     "execution_count": 295,
     "metadata": {},
     "output_type": "execute_result"
    }
   ],
   "source": [
    "groupby_ta_ma = df.groupby('total_acc').mean()['mort_acc']\n",
    "groupby_ta_ma.head(10)"
   ]
  },
  {
   "cell_type": "code",
   "execution_count": 296,
   "id": "4aebf9fb",
   "metadata": {},
   "outputs": [
    {
     "name": "stdout",
     "output_type": "stream",
     "text": [
      "0.10328947368421053\n",
      "0.05202312138728324\n"
     ]
    }
   ],
   "source": [
    "print(groupby_ta_ma[5])\n",
    "print(groupby_ta_ma.iloc[1])"
   ]
  },
  {
   "cell_type": "markdown",
   "id": "4a0e73c9",
   "metadata": {},
   "source": [
    "**Checking for missing values in the \"mort_acc\" column**"
   ]
  },
  {
   "cell_type": "code",
   "execution_count": 297,
   "id": "6f349ba0",
   "metadata": {},
   "outputs": [
    {
     "data": {
      "text/html": [
       "<div>\n",
       "<style scoped>\n",
       "    .dataframe tbody tr th:only-of-type {\n",
       "        vertical-align: middle;\n",
       "    }\n",
       "\n",
       "    .dataframe tbody tr th {\n",
       "        vertical-align: top;\n",
       "    }\n",
       "\n",
       "    .dataframe thead th {\n",
       "        text-align: right;\n",
       "    }\n",
       "</style>\n",
       "<table border=\"1\" class=\"dataframe\">\n",
       "  <thead>\n",
       "    <tr style=\"text-align: right;\">\n",
       "      <th></th>\n",
       "      <th>mort_acc</th>\n",
       "      <th>total_acc</th>\n",
       "    </tr>\n",
       "  </thead>\n",
       "  <tbody>\n",
       "    <tr>\n",
       "      <th>22</th>\n",
       "      <td>NaN</td>\n",
       "      <td>7.0</td>\n",
       "    </tr>\n",
       "    <tr>\n",
       "      <th>25</th>\n",
       "      <td>NaN</td>\n",
       "      <td>10.0</td>\n",
       "    </tr>\n",
       "    <tr>\n",
       "      <th>32</th>\n",
       "      <td>NaN</td>\n",
       "      <td>18.0</td>\n",
       "    </tr>\n",
       "    <tr>\n",
       "      <th>41</th>\n",
       "      <td>NaN</td>\n",
       "      <td>16.0</td>\n",
       "    </tr>\n",
       "    <tr>\n",
       "      <th>62</th>\n",
       "      <td>NaN</td>\n",
       "      <td>17.0</td>\n",
       "    </tr>\n",
       "    <tr>\n",
       "      <th>...</th>\n",
       "      <td>...</td>\n",
       "      <td>...</td>\n",
       "    </tr>\n",
       "    <tr>\n",
       "      <th>395991</th>\n",
       "      <td>NaN</td>\n",
       "      <td>21.0</td>\n",
       "    </tr>\n",
       "    <tr>\n",
       "      <th>395995</th>\n",
       "      <td>NaN</td>\n",
       "      <td>20.0</td>\n",
       "    </tr>\n",
       "    <tr>\n",
       "      <th>396016</th>\n",
       "      <td>NaN</td>\n",
       "      <td>23.0</td>\n",
       "    </tr>\n",
       "    <tr>\n",
       "      <th>396021</th>\n",
       "      <td>NaN</td>\n",
       "      <td>50.0</td>\n",
       "    </tr>\n",
       "    <tr>\n",
       "      <th>396029</th>\n",
       "      <td>NaN</td>\n",
       "      <td>19.0</td>\n",
       "    </tr>\n",
       "  </tbody>\n",
       "</table>\n",
       "<p>37795 rows × 2 columns</p>\n",
       "</div>"
      ],
      "text/plain": [
       "        mort_acc  total_acc\n",
       "22           NaN        7.0\n",
       "25           NaN       10.0\n",
       "32           NaN       18.0\n",
       "41           NaN       16.0\n",
       "62           NaN       17.0\n",
       "...          ...        ...\n",
       "395991       NaN       21.0\n",
       "395995       NaN       20.0\n",
       "396016       NaN       23.0\n",
       "396021       NaN       50.0\n",
       "396029       NaN       19.0\n",
       "\n",
       "[37795 rows x 2 columns]"
      ]
     },
     "execution_count": 297,
     "metadata": {},
     "output_type": "execute_result"
    }
   ],
   "source": [
    "#df[['mort_acc','total_acc']]\n",
    "df[df['mort_acc']!=df['mort_acc']][['mort_acc','total_acc']]"
   ]
  },
  {
   "cell_type": "markdown",
   "id": "d1ae7725",
   "metadata": {},
   "source": [
    "**Creating a new column \"mort_acc_new\": if the mort_acc is missing, the mean value corresponding to its \"total_acc\" value from the series created above is filled in. Otherwise the \"mort_acc\" value is filled in.**"
   ]
  },
  {
   "cell_type": "code",
   "execution_count": 298,
   "id": "cc236480",
   "metadata": {},
   "outputs": [],
   "source": [
    "def fill_na(mort_acc,total_acc):\n",
    "    if mort_acc != mort_acc:\n",
    "        mort_acc = groupby_ta_ma[total_acc]\n",
    "    return float(mort_acc)\n",
    "\n",
    "df['mort_acc_new'] = df.apply(lambda x: fill_na(x['mort_acc'], x['total_acc']), axis=1)"
   ]
  },
  {
   "cell_type": "code",
   "execution_count": 299,
   "id": "568fa23a",
   "metadata": {},
   "outputs": [
    {
     "name": "stdout",
     "output_type": "stream",
     "text": [
      "False    358235\n",
      "True      37795\n",
      "Name: mort_acc, dtype: int64\n",
      "\n",
      "\n",
      "False    396030\n",
      "Name: total_acc, dtype: int64\n"
     ]
    }
   ],
   "source": [
    "print(df['mort_acc'].isnull().value_counts())\n",
    "print('\\n')\n",
    "print(df['total_acc'].isnull().value_counts())"
   ]
  },
  {
   "cell_type": "markdown",
   "id": "4620606e",
   "metadata": {},
   "source": [
    "**Checking the results**"
   ]
  },
  {
   "cell_type": "code",
   "execution_count": 300,
   "id": "e35292e1",
   "metadata": {},
   "outputs": [
    {
     "data": {
      "text/html": [
       "<div>\n",
       "<style scoped>\n",
       "    .dataframe tbody tr th:only-of-type {\n",
       "        vertical-align: middle;\n",
       "    }\n",
       "\n",
       "    .dataframe tbody tr th {\n",
       "        vertical-align: top;\n",
       "    }\n",
       "\n",
       "    .dataframe thead th {\n",
       "        text-align: right;\n",
       "    }\n",
       "</style>\n",
       "<table border=\"1\" class=\"dataframe\">\n",
       "  <thead>\n",
       "    <tr style=\"text-align: right;\">\n",
       "      <th></th>\n",
       "      <th>mort_acc</th>\n",
       "      <th>mort_acc_new</th>\n",
       "      <th>total_acc</th>\n",
       "    </tr>\n",
       "  </thead>\n",
       "  <tbody>\n",
       "    <tr>\n",
       "      <th>22</th>\n",
       "      <td>NaN</td>\n",
       "      <td>0.221695</td>\n",
       "      <td>7.0</td>\n",
       "    </tr>\n",
       "    <tr>\n",
       "      <th>25</th>\n",
       "      <td>NaN</td>\n",
       "      <td>0.429158</td>\n",
       "      <td>10.0</td>\n",
       "    </tr>\n",
       "    <tr>\n",
       "      <th>32</th>\n",
       "      <td>NaN</td>\n",
       "      <td>1.235885</td>\n",
       "      <td>18.0</td>\n",
       "    </tr>\n",
       "    <tr>\n",
       "      <th>41</th>\n",
       "      <td>NaN</td>\n",
       "      <td>1.007405</td>\n",
       "      <td>16.0</td>\n",
       "    </tr>\n",
       "    <tr>\n",
       "      <th>62</th>\n",
       "      <td>NaN</td>\n",
       "      <td>1.151269</td>\n",
       "      <td>17.0</td>\n",
       "    </tr>\n",
       "    <tr>\n",
       "      <th>...</th>\n",
       "      <td>...</td>\n",
       "      <td>...</td>\n",
       "      <td>...</td>\n",
       "    </tr>\n",
       "    <tr>\n",
       "      <th>395991</th>\n",
       "      <td>NaN</td>\n",
       "      <td>1.519932</td>\n",
       "      <td>21.0</td>\n",
       "    </tr>\n",
       "    <tr>\n",
       "      <th>395995</th>\n",
       "      <td>NaN</td>\n",
       "      <td>1.409380</td>\n",
       "      <td>20.0</td>\n",
       "    </tr>\n",
       "    <tr>\n",
       "      <th>396016</th>\n",
       "      <td>NaN</td>\n",
       "      <td>1.721794</td>\n",
       "      <td>23.0</td>\n",
       "    </tr>\n",
       "    <tr>\n",
       "      <th>396021</th>\n",
       "      <td>NaN</td>\n",
       "      <td>3.220866</td>\n",
       "      <td>50.0</td>\n",
       "    </tr>\n",
       "    <tr>\n",
       "      <th>396029</th>\n",
       "      <td>NaN</td>\n",
       "      <td>1.358013</td>\n",
       "      <td>19.0</td>\n",
       "    </tr>\n",
       "  </tbody>\n",
       "</table>\n",
       "<p>37795 rows × 3 columns</p>\n",
       "</div>"
      ],
      "text/plain": [
       "        mort_acc  mort_acc_new  total_acc\n",
       "22           NaN      0.221695        7.0\n",
       "25           NaN      0.429158       10.0\n",
       "32           NaN      1.235885       18.0\n",
       "41           NaN      1.007405       16.0\n",
       "62           NaN      1.151269       17.0\n",
       "...          ...           ...        ...\n",
       "395991       NaN      1.519932       21.0\n",
       "395995       NaN      1.409380       20.0\n",
       "396016       NaN      1.721794       23.0\n",
       "396021       NaN      3.220866       50.0\n",
       "396029       NaN      1.358013       19.0\n",
       "\n",
       "[37795 rows x 3 columns]"
      ]
     },
     "execution_count": 300,
     "metadata": {},
     "output_type": "execute_result"
    }
   ],
   "source": [
    "df[df['mort_acc']!=df['mort_acc']][['mort_acc','mort_acc_new','total_acc']]"
   ]
  },
  {
   "cell_type": "markdown",
   "id": "dce74df2",
   "metadata": {},
   "source": [
    "**Looks as expected, replacing old \"mort_acc\" column with new column with the filled our values**"
   ]
  },
  {
   "cell_type": "code",
   "execution_count": 301,
   "id": "6aa0483c",
   "metadata": {},
   "outputs": [],
   "source": [
    "df['mort_acc'] = df['mort_acc_new']"
   ]
  },
  {
   "cell_type": "markdown",
   "id": "a0d7e444",
   "metadata": {},
   "source": [
    "**Dropping the old column**"
   ]
  },
  {
   "cell_type": "code",
   "execution_count": 302,
   "id": "c48b0ddc",
   "metadata": {},
   "outputs": [],
   "source": [
    "df.drop('mort_acc_new',axis=1,inplace=True)"
   ]
  },
  {
   "cell_type": "markdown",
   "id": "c14c1476",
   "metadata": {},
   "source": [
    "**Checking the \"revol_util\" and the \"pub_rec_bankruptcies\" for missing values**"
   ]
  },
  {
   "cell_type": "code",
   "execution_count": 303,
   "id": "52e69f8f",
   "metadata": {},
   "outputs": [
    {
     "name": "stdout",
     "output_type": "stream",
     "text": [
      "False    395754\n",
      "True        276\n",
      "Name: revol_util, dtype: int64\n",
      "\n",
      "\n",
      "False    395495\n",
      "True        535\n",
      "Name: pub_rec_bankruptcies, dtype: int64\n"
     ]
    }
   ],
   "source": [
    "print(df['revol_util'].isnull().value_counts())\n",
    "print('\\n')\n",
    "print(df['pub_rec_bankruptcies'].isnull().value_counts())"
   ]
  },
  {
   "cell_type": "code",
   "execution_count": 304,
   "id": "a631487e",
   "metadata": {},
   "outputs": [
    {
     "name": "stdout",
     "output_type": "stream",
     "text": [
      "0.0006974029321245016\n",
      "\n",
      "\n",
      "0.0013527351799643484\n"
     ]
    }
   ],
   "source": [
    "print(df['revol_util'].isnull().value_counts()[1]/df['revol_util'].isnull().value_counts()[0])\n",
    "print('\\n')\n",
    "print(df['pub_rec_bankruptcies'].isnull().value_counts()[1]/df['pub_rec_bankruptcies'].isnull().value_counts()[0])"
   ]
  },
  {
   "cell_type": "markdown",
   "id": "92ffdf5c",
   "metadata": {},
   "source": [
    "**These are less than 0.5% of the total data. This does not justify the effort of replacing missing values, so rows with the missing \"revol_until\" and \"pub_rec_bankruptcies\" values are removed from the dataframe.**"
   ]
  },
  {
   "cell_type": "code",
   "execution_count": 305,
   "id": "d16149ce",
   "metadata": {},
   "outputs": [],
   "source": [
    "df.drop(index=df[df['revol_util']!=df['revol_util']].index,axis=1,inplace=True)\n",
    "df.drop(index=df[df['pub_rec_bankruptcies']!=df['pub_rec_bankruptcies']].index,axis=1,inplace=True)\n",
    "#df[df['revol_util']!=df['revol_util']].index"
   ]
  },
  {
   "cell_type": "markdown",
   "id": "ee69bef1",
   "metadata": {},
   "source": [
    "**Checking results**"
   ]
  },
  {
   "cell_type": "code",
   "execution_count": 306,
   "id": "6e8fe144",
   "metadata": {},
   "outputs": [
    {
     "name": "stdout",
     "output_type": "stream",
     "text": [
      "False    395219\n",
      "Name: revol_util, dtype: int64\n",
      "None\n",
      "\n",
      "\n",
      "loan_amnt               0\n",
      "term                    0\n",
      "int_rate                0\n",
      "installment             0\n",
      "grade                   0\n",
      "sub_grade               0\n",
      "home_ownership          0\n",
      "annual_inc              0\n",
      "verification_status     0\n",
      "issue_d                 0\n",
      "loan_status             0\n",
      "purpose                 0\n",
      "dti                     0\n",
      "open_acc                0\n",
      "pub_rec                 0\n",
      "revol_bal               0\n",
      "revol_util              0\n",
      "total_acc               0\n",
      "initial_list_status     0\n",
      "application_type        0\n",
      "mort_acc                0\n",
      "pub_rec_bankruptcies    0\n",
      "address                 0\n",
      "loan_repaid             0\n",
      "earliest_cr_year        0\n",
      "dtype: int64\n"
     ]
    }
   ],
   "source": [
    "print(print(df['revol_util'].isnull().value_counts()))\n",
    "print('\\n')\n",
    "print(df.isnull().sum())"
   ]
  },
  {
   "cell_type": "markdown",
   "id": "e04d5618",
   "metadata": {},
   "source": [
    "## Categorical Variables and Dummy Variables\n",
    "\n",
    "**In this section dummy variables are created for the non-numerical values for machine learing that comes afterwards**\n"
   ]
  },
  {
   "cell_type": "code",
   "execution_count": 307,
   "id": "be5d9795",
   "metadata": {},
   "outputs": [
    {
     "data": {
      "text/plain": [
       "(395219, 25)"
      ]
     },
     "execution_count": 307,
     "metadata": {},
     "output_type": "execute_result"
    }
   ],
   "source": [
    "df.shape"
   ]
  },
  {
   "cell_type": "code",
   "execution_count": 308,
   "id": "124a35c6",
   "metadata": {},
   "outputs": [
    {
     "name": "stdout",
     "output_type": "stream",
     "text": [
      "int64\n"
     ]
    }
   ],
   "source": [
    "print(list(df.columns.to_series().groupby(df.dtypes).groups)[0])"
   ]
  },
  {
   "cell_type": "markdown",
   "id": "6936ed68",
   "metadata": {},
   "source": [
    "**Listing all the columns that are non-numeric.**"
   ]
  },
  {
   "cell_type": "code",
   "execution_count": 309,
   "id": "adfb9f8d",
   "metadata": {},
   "outputs": [
    {
     "data": {
      "text/plain": [
       "['term',\n",
       " 'grade',\n",
       " 'sub_grade',\n",
       " 'home_ownership',\n",
       " 'verification_status',\n",
       " 'issue_d',\n",
       " 'loan_status',\n",
       " 'purpose',\n",
       " 'initial_list_status',\n",
       " 'application_type',\n",
       " 'address']"
      ]
     },
     "execution_count": 309,
     "metadata": {},
     "output_type": "execute_result"
    }
   ],
   "source": [
    "list(df.select_dtypes(['object']).columns)"
   ]
  },
  {
   "cell_type": "markdown",
   "id": "e093c621",
   "metadata": {},
   "source": [
    "**Checking the \"term\" feature**"
   ]
  },
  {
   "cell_type": "code",
   "execution_count": 310,
   "id": "c72ba8df",
   "metadata": {},
   "outputs": [
    {
     "data": {
      "text/plain": [
       " 36 months    301247\n",
       " 60 months     93972\n",
       "Name: term, dtype: int64"
      ]
     },
     "execution_count": 310,
     "metadata": {},
     "output_type": "execute_result"
    }
   ],
   "source": [
    "df['term'].value_counts() "
   ]
  },
  {
   "cell_type": "markdown",
   "id": "aaed9236",
   "metadata": {},
   "source": [
    "**Converting the \"term\" feature into either a 36 or 60 integer numeric data type**"
   ]
  },
  {
   "cell_type": "code",
   "execution_count": 311,
   "id": "2bb6b701",
   "metadata": {},
   "outputs": [],
   "source": [
    "def term (entry):\n",
    "    return int(entry.split()[0])\n",
    "\n",
    "df['term'] = df['term'].apply(term)"
   ]
  },
  {
   "cell_type": "markdown",
   "id": "e168065e",
   "metadata": {},
   "source": [
    "**As stated above, the \"grade\" feature is part of sub_grade, dropping this feature**"
   ]
  },
  {
   "cell_type": "code",
   "execution_count": 312,
   "id": "fea97539",
   "metadata": {},
   "outputs": [],
   "source": [
    "df.drop('grade',axis=1,inplace=True)"
   ]
  },
  {
   "cell_type": "markdown",
   "id": "8bd5e7e8",
   "metadata": {},
   "source": [
    "**Checking the \"sungrade\" feature**"
   ]
  },
  {
   "cell_type": "code",
   "execution_count": 313,
   "id": "4d6ea55e",
   "metadata": {},
   "outputs": [
    {
     "data": {
      "text/plain": [
       "0         B4\n",
       "1         B5\n",
       "2         B3\n",
       "3         A2\n",
       "4         C5\n",
       "          ..\n",
       "396025    B4\n",
       "396026    C1\n",
       "396027    B1\n",
       "396028    C2\n",
       "396029    C2\n",
       "Name: sub_grade, Length: 395219, dtype: object"
      ]
     },
     "execution_count": 313,
     "metadata": {},
     "output_type": "execute_result"
    }
   ],
   "source": [
    "df['sub_grade']"
   ]
  },
  {
   "cell_type": "markdown",
   "id": "3f38e6a4",
   "metadata": {},
   "source": [
    "**Creating new columns with dummy variables for the \"subgrade\" feature (first column dropped since the remaining colums already contain the complete information). Concatenating the new columns to the original dataframe and dropping the original column.**"
   ]
  },
  {
   "cell_type": "code",
   "execution_count": 314,
   "id": "aecf15ac",
   "metadata": {},
   "outputs": [],
   "source": [
    "pd.get_dummies(df['sub_grade'])\n",
    "df = pd.concat([df,pd.get_dummies(df['sub_grade'],drop_first=True)],axis=1)\n",
    "df.drop('sub_grade',axis=1,inplace=True)"
   ]
  },
  {
   "cell_type": "code",
   "execution_count": 315,
   "id": "64ee8f83",
   "metadata": {},
   "outputs": [
    {
     "data": {
      "text/plain": [
       "Index(['loan_amnt', 'term', 'int_rate', 'installment', 'home_ownership',\n",
       "       'annual_inc', 'verification_status', 'issue_d', 'loan_status',\n",
       "       'purpose', 'dti', 'open_acc', 'pub_rec', 'revol_bal', 'revol_util',\n",
       "       'total_acc', 'initial_list_status', 'application_type', 'mort_acc',\n",
       "       'pub_rec_bankruptcies', 'address', 'loan_repaid', 'earliest_cr_year',\n",
       "       'A2', 'A3', 'A4', 'A5', 'B1', 'B2', 'B3', 'B4', 'B5', 'C1', 'C2', 'C3',\n",
       "       'C4', 'C5', 'D1', 'D2', 'D3', 'D4', 'D5', 'E1', 'E2', 'E3', 'E4', 'E5',\n",
       "       'F1', 'F2', 'F3', 'F4', 'F5', 'G1', 'G2', 'G3', 'G4', 'G5'],\n",
       "      dtype='object')"
      ]
     },
     "execution_count": 315,
     "metadata": {},
     "output_type": "execute_result"
    }
   ],
   "source": [
    "df.columns"
   ]
  },
  {
   "cell_type": "markdown",
   "id": "0bcbd811",
   "metadata": {},
   "source": [
    "**Same procedure for creating dummy variables as above for the variables \"verification_status\", \"application_type\", \"initial_list_status\", and \"purpose\"**"
   ]
  },
  {
   "cell_type": "code",
   "execution_count": 316,
   "id": "261426d1",
   "metadata": {},
   "outputs": [
    {
     "data": {
      "text/plain": [
       "(395219, 57)"
      ]
     },
     "execution_count": 316,
     "metadata": {},
     "output_type": "execute_result"
    }
   ],
   "source": [
    "df.shape"
   ]
  },
  {
   "cell_type": "code",
   "execution_count": 317,
   "id": "445669a6",
   "metadata": {},
   "outputs": [],
   "source": [
    "a = pd.get_dummies(df[['verification_status', 'application_type','initial_list_status','purpose']],drop_first=True)"
   ]
  },
  {
   "cell_type": "code",
   "execution_count": 318,
   "id": "39215a46",
   "metadata": {},
   "outputs": [
    {
     "data": {
      "text/plain": [
       "verification_status_Source Verified    False\n",
       "verification_status_Verified           False\n",
       "application_type_INDIVIDUAL            False\n",
       "application_type_JOINT                 False\n",
       "initial_list_status_w                  False\n",
       "purpose_credit_card                    False\n",
       "purpose_debt_consolidation             False\n",
       "purpose_educational                    False\n",
       "purpose_home_improvement               False\n",
       "purpose_house                          False\n",
       "purpose_major_purchase                 False\n",
       "purpose_medical                        False\n",
       "purpose_moving                         False\n",
       "purpose_other                          False\n",
       "purpose_renewable_energy               False\n",
       "purpose_small_business                 False\n",
       "purpose_vacation                       False\n",
       "purpose_wedding                        False\n",
       "dtype: bool"
      ]
     },
     "execution_count": 318,
     "metadata": {},
     "output_type": "execute_result"
    }
   ],
   "source": [
    "a.isna().any()"
   ]
  },
  {
   "cell_type": "code",
   "execution_count": 319,
   "id": "a93018ed",
   "metadata": {},
   "outputs": [
    {
     "data": {
      "text/plain": [
       "Index(['loan_amnt', 'term', 'int_rate', 'installment', 'home_ownership',\n",
       "       'annual_inc', 'verification_status', 'issue_d', 'loan_status',\n",
       "       'purpose', 'dti', 'open_acc', 'pub_rec', 'revol_bal', 'revol_util',\n",
       "       'total_acc', 'initial_list_status', 'application_type', 'mort_acc',\n",
       "       'pub_rec_bankruptcies', 'address', 'loan_repaid', 'earliest_cr_year',\n",
       "       'A2', 'A3', 'A4', 'A5', 'B1', 'B2', 'B3', 'B4', 'B5', 'C1', 'C2', 'C3',\n",
       "       'C4', 'C5', 'D1', 'D2', 'D3', 'D4', 'D5', 'E1', 'E2', 'E3', 'E4', 'E5',\n",
       "       'F1', 'F2', 'F3', 'F4', 'F5', 'G1', 'G2', 'G3', 'G4', 'G5'],\n",
       "      dtype='object')"
      ]
     },
     "execution_count": 319,
     "metadata": {},
     "output_type": "execute_result"
    }
   ],
   "source": [
    "df.columns"
   ]
  },
  {
   "cell_type": "code",
   "execution_count": 320,
   "id": "97ab2f3e",
   "metadata": {},
   "outputs": [],
   "source": [
    "df = pd.concat([df,a],axis=1)"
   ]
  },
  {
   "cell_type": "code",
   "execution_count": 321,
   "id": "8f2e6664",
   "metadata": {},
   "outputs": [],
   "source": [
    "df.drop(['verification_status', 'application_type','initial_list_status','purpose'],axis=1,inplace=True)"
   ]
  },
  {
   "cell_type": "code",
   "execution_count": 322,
   "id": "84c57d9e",
   "metadata": {},
   "outputs": [
    {
     "data": {
      "text/plain": [
       "Index(['loan_amnt', 'term', 'int_rate', 'installment', 'home_ownership',\n",
       "       'annual_inc', 'issue_d', 'loan_status', 'dti', 'open_acc', 'pub_rec',\n",
       "       'revol_bal', 'revol_util', 'total_acc', 'mort_acc',\n",
       "       'pub_rec_bankruptcies', 'address', 'loan_repaid', 'earliest_cr_year',\n",
       "       'A2', 'A3', 'A4', 'A5', 'B1', 'B2', 'B3', 'B4', 'B5', 'C1', 'C2', 'C3',\n",
       "       'C4', 'C5', 'D1', 'D2', 'D3', 'D4', 'D5', 'E1', 'E2', 'E3', 'E4', 'E5',\n",
       "       'F1', 'F2', 'F3', 'F4', 'F5', 'G1', 'G2', 'G3', 'G4', 'G5',\n",
       "       'verification_status_Source Verified', 'verification_status_Verified',\n",
       "       'application_type_INDIVIDUAL', 'application_type_JOINT',\n",
       "       'initial_list_status_w', 'purpose_credit_card',\n",
       "       'purpose_debt_consolidation', 'purpose_educational',\n",
       "       'purpose_home_improvement', 'purpose_house', 'purpose_major_purchase',\n",
       "       'purpose_medical', 'purpose_moving', 'purpose_other',\n",
       "       'purpose_renewable_energy', 'purpose_small_business',\n",
       "       'purpose_vacation', 'purpose_wedding'],\n",
       "      dtype='object')"
      ]
     },
     "execution_count": 322,
     "metadata": {},
     "output_type": "execute_result"
    }
   ],
   "source": [
    "df.columns"
   ]
  },
  {
   "cell_type": "markdown",
   "id": "24d3bf8e",
   "metadata": {},
   "source": [
    "**Next step is to deal with the \"home_ownership\" column**"
   ]
  },
  {
   "cell_type": "markdown",
   "id": "1f2f4ce1",
   "metadata": {},
   "source": [
    "**Checking the value_counts for the \"home_ownership\" column.**"
   ]
  },
  {
   "cell_type": "code",
   "execution_count": 323,
   "id": "c49300e4",
   "metadata": {},
   "outputs": [
    {
     "data": {
      "text/plain": [
       "MORTGAGE    198022\n",
       "RENT        159395\n",
       "OWN          37660\n",
       "OTHER          110\n",
       "NONE            29\n",
       "ANY              3\n",
       "Name: home_ownership, dtype: int64"
      ]
     },
     "execution_count": 323,
     "metadata": {},
     "output_type": "execute_result"
    }
   ],
   "source": [
    "df['home_ownership'].value_counts()"
   ]
  },
  {
   "cell_type": "markdown",
   "id": "0d017f27",
   "metadata": {},
   "source": [
    "**Checking the percentages for value_counts for the \"home_ownership\" column.**"
   ]
  },
  {
   "cell_type": "code",
   "execution_count": 324,
   "id": "4d50f3e1",
   "metadata": {},
   "outputs": [
    {
     "data": {
      "text/plain": [
       "MORTGAGE    0.501044\n",
       "RENT        0.403308\n",
       "OWN         0.095289\n",
       "OTHER       0.000278\n",
       "NONE        0.000073\n",
       "ANY         0.000008\n",
       "Name: home_ownership, dtype: float64"
      ]
     },
     "execution_count": 324,
     "metadata": {},
     "output_type": "execute_result"
    }
   ],
   "source": [
    "df['home_ownership'].value_counts(normalize=True)"
   ]
  },
  {
   "cell_type": "markdown",
   "id": "d900421d",
   "metadata": {},
   "source": [
    "**Apparently the top 3 categories contain 99% of datapoints, therfore the columns is converted to only 4 categories \"MORTGAGE\", \"RENT\", \"OWN\" and \"OTHER\", the latter contains the lowest 3 categories.**"
   ]
  },
  {
   "cell_type": "code",
   "execution_count": 325,
   "id": "5d7eca0b",
   "metadata": {},
   "outputs": [],
   "source": [
    "def home_ownership (entry):\n",
    "    if entry == 'NONE' or entry == 'ANY':\n",
    "        return 'OTHER'\n",
    "    else:\n",
    "        return entry\n",
    "    \n",
    "home_ownership('RENT')\n",
    " \n",
    "df['home_ownership'] = df['home_ownership'].apply(home_ownership)"
   ]
  },
  {
   "cell_type": "code",
   "execution_count": 326,
   "id": "5e3c6a8c",
   "metadata": {},
   "outputs": [
    {
     "data": {
      "text/plain": [
       "MORTGAGE    198022\n",
       "RENT        159395\n",
       "OWN          37660\n",
       "OTHER          142\n",
       "Name: home_ownership, dtype: int64"
      ]
     },
     "execution_count": 326,
     "metadata": {},
     "output_type": "execute_result"
    }
   ],
   "source": [
    "df['home_ownership'].value_counts()"
   ]
  },
  {
   "cell_type": "markdown",
   "id": "27f6c4d0",
   "metadata": {},
   "source": [
    "**Creating dummy variables for the new \"home_ownership\" column and concatenating the new columns with the original dataframe.**"
   ]
  },
  {
   "cell_type": "code",
   "execution_count": 327,
   "id": "7dab0a19",
   "metadata": {},
   "outputs": [],
   "source": [
    "df = pd.concat([df,pd.get_dummies(df['home_ownership'],drop_first=True)],axis=1)"
   ]
  },
  {
   "cell_type": "markdown",
   "id": "c3d31fb2",
   "metadata": {},
   "source": [
    "**Dropping the original column**"
   ]
  },
  {
   "cell_type": "code",
   "execution_count": 328,
   "id": "70f98a2d",
   "metadata": {},
   "outputs": [],
   "source": [
    "df.drop('home_ownership',axis=1,inplace=True)"
   ]
  },
  {
   "cell_type": "markdown",
   "id": "14f61976",
   "metadata": {},
   "source": [
    "**Checking the zip code from the \"address\" column in the data set** "
   ]
  },
  {
   "cell_type": "code",
   "execution_count": 329,
   "id": "16f02537",
   "metadata": {},
   "outputs": [
    {
     "data": {
      "text/plain": [
       "0       0174 Michelle Gateway\\nMendozaberg, OK 22690\n",
       "1    1076 Carney Fort Apt. 347\\nLoganmouth, SD 05113\n",
       "2    87025 Mark Dale Apt. 269\\nNew Sabrina, WV 05113\n",
       "3              823 Reid Ford\\nDelacruzside, MA 00813\n",
       "4               679 Luna Roads\\nGreggshire, VA 11650\n",
       "Name: address, dtype: object"
      ]
     },
     "execution_count": 329,
     "metadata": {},
     "output_type": "execute_result"
    }
   ],
   "source": [
    "df['address'].head()"
   ]
  },
  {
   "cell_type": "markdown",
   "id": "9d8aac59",
   "metadata": {},
   "source": [
    "**Creating a column called 'zip_code' that extracts the zip code from the address column.**"
   ]
  },
  {
   "cell_type": "code",
   "execution_count": 330,
   "id": "d96f7859",
   "metadata": {},
   "outputs": [
    {
     "data": {
      "text/plain": [
       "0    22690\n",
       "1    05113\n",
       "2    05113\n",
       "3    00813\n",
       "4    11650\n",
       "Name: zip_code, dtype: object"
      ]
     },
     "execution_count": 330,
     "metadata": {},
     "output_type": "execute_result"
    }
   ],
   "source": [
    "df['zip_code'] = df['address'].apply(lambda x: x.split()[-1])\n",
    "df['zip_code'].head()"
   ]
  },
  {
   "cell_type": "code",
   "execution_count": 331,
   "id": "871ec9d5",
   "metadata": {},
   "outputs": [
    {
     "data": {
      "text/plain": [
       "70466    56880\n",
       "22690    56413\n",
       "30723    56402\n",
       "48052    55811\n",
       "00813    45725\n",
       "29597    45393\n",
       "05113    45300\n",
       "11650    11210\n",
       "93700    11126\n",
       "86630    10959\n",
       "Name: zip_code, dtype: int64"
      ]
     },
     "execution_count": 331,
     "metadata": {},
     "output_type": "execute_result"
    }
   ],
   "source": [
    "df['zip_code'].value_counts()"
   ]
  },
  {
   "cell_type": "code",
   "execution_count": 332,
   "id": "ea618a43",
   "metadata": {},
   "outputs": [
    {
     "data": {
      "text/plain": [
       "10"
      ]
     },
     "execution_count": 332,
     "metadata": {},
     "output_type": "execute_result"
    }
   ],
   "source": [
    "len(df['zip_code'].value_counts())"
   ]
  },
  {
   "cell_type": "markdown",
   "id": "8e6c01b6",
   "metadata": {},
   "source": [
    "**There are 10 different zip codes. Creating dummy variables for this column, concatenating the result to dataframe and dropping the \"zip_code\" as well as the original \"address\" column.**"
   ]
  },
  {
   "cell_type": "code",
   "execution_count": 333,
   "id": "e6872b2a",
   "metadata": {},
   "outputs": [
    {
     "data": {
      "text/html": [
       "<div>\n",
       "<style scoped>\n",
       "    .dataframe tbody tr th:only-of-type {\n",
       "        vertical-align: middle;\n",
       "    }\n",
       "\n",
       "    .dataframe tbody tr th {\n",
       "        vertical-align: top;\n",
       "    }\n",
       "\n",
       "    .dataframe thead th {\n",
       "        text-align: right;\n",
       "    }\n",
       "</style>\n",
       "<table border=\"1\" class=\"dataframe\">\n",
       "  <thead>\n",
       "    <tr style=\"text-align: right;\">\n",
       "      <th></th>\n",
       "      <th>05113</th>\n",
       "      <th>11650</th>\n",
       "      <th>22690</th>\n",
       "      <th>29597</th>\n",
       "      <th>30723</th>\n",
       "      <th>48052</th>\n",
       "      <th>70466</th>\n",
       "      <th>86630</th>\n",
       "      <th>93700</th>\n",
       "    </tr>\n",
       "  </thead>\n",
       "  <tbody>\n",
       "    <tr>\n",
       "      <th>0</th>\n",
       "      <td>0</td>\n",
       "      <td>0</td>\n",
       "      <td>1</td>\n",
       "      <td>0</td>\n",
       "      <td>0</td>\n",
       "      <td>0</td>\n",
       "      <td>0</td>\n",
       "      <td>0</td>\n",
       "      <td>0</td>\n",
       "    </tr>\n",
       "    <tr>\n",
       "      <th>1</th>\n",
       "      <td>1</td>\n",
       "      <td>0</td>\n",
       "      <td>0</td>\n",
       "      <td>0</td>\n",
       "      <td>0</td>\n",
       "      <td>0</td>\n",
       "      <td>0</td>\n",
       "      <td>0</td>\n",
       "      <td>0</td>\n",
       "    </tr>\n",
       "    <tr>\n",
       "      <th>2</th>\n",
       "      <td>1</td>\n",
       "      <td>0</td>\n",
       "      <td>0</td>\n",
       "      <td>0</td>\n",
       "      <td>0</td>\n",
       "      <td>0</td>\n",
       "      <td>0</td>\n",
       "      <td>0</td>\n",
       "      <td>0</td>\n",
       "    </tr>\n",
       "    <tr>\n",
       "      <th>3</th>\n",
       "      <td>0</td>\n",
       "      <td>0</td>\n",
       "      <td>0</td>\n",
       "      <td>0</td>\n",
       "      <td>0</td>\n",
       "      <td>0</td>\n",
       "      <td>0</td>\n",
       "      <td>0</td>\n",
       "      <td>0</td>\n",
       "    </tr>\n",
       "    <tr>\n",
       "      <th>4</th>\n",
       "      <td>0</td>\n",
       "      <td>1</td>\n",
       "      <td>0</td>\n",
       "      <td>0</td>\n",
       "      <td>0</td>\n",
       "      <td>0</td>\n",
       "      <td>0</td>\n",
       "      <td>0</td>\n",
       "      <td>0</td>\n",
       "    </tr>\n",
       "    <tr>\n",
       "      <th>...</th>\n",
       "      <td>...</td>\n",
       "      <td>...</td>\n",
       "      <td>...</td>\n",
       "      <td>...</td>\n",
       "      <td>...</td>\n",
       "      <td>...</td>\n",
       "      <td>...</td>\n",
       "      <td>...</td>\n",
       "      <td>...</td>\n",
       "    </tr>\n",
       "    <tr>\n",
       "      <th>396025</th>\n",
       "      <td>0</td>\n",
       "      <td>0</td>\n",
       "      <td>0</td>\n",
       "      <td>0</td>\n",
       "      <td>1</td>\n",
       "      <td>0</td>\n",
       "      <td>0</td>\n",
       "      <td>0</td>\n",
       "      <td>0</td>\n",
       "    </tr>\n",
       "    <tr>\n",
       "      <th>396026</th>\n",
       "      <td>1</td>\n",
       "      <td>0</td>\n",
       "      <td>0</td>\n",
       "      <td>0</td>\n",
       "      <td>0</td>\n",
       "      <td>0</td>\n",
       "      <td>0</td>\n",
       "      <td>0</td>\n",
       "      <td>0</td>\n",
       "    </tr>\n",
       "    <tr>\n",
       "      <th>396027</th>\n",
       "      <td>0</td>\n",
       "      <td>0</td>\n",
       "      <td>0</td>\n",
       "      <td>0</td>\n",
       "      <td>0</td>\n",
       "      <td>0</td>\n",
       "      <td>1</td>\n",
       "      <td>0</td>\n",
       "      <td>0</td>\n",
       "    </tr>\n",
       "    <tr>\n",
       "      <th>396028</th>\n",
       "      <td>0</td>\n",
       "      <td>0</td>\n",
       "      <td>0</td>\n",
       "      <td>1</td>\n",
       "      <td>0</td>\n",
       "      <td>0</td>\n",
       "      <td>0</td>\n",
       "      <td>0</td>\n",
       "      <td>0</td>\n",
       "    </tr>\n",
       "    <tr>\n",
       "      <th>396029</th>\n",
       "      <td>0</td>\n",
       "      <td>0</td>\n",
       "      <td>0</td>\n",
       "      <td>0</td>\n",
       "      <td>0</td>\n",
       "      <td>1</td>\n",
       "      <td>0</td>\n",
       "      <td>0</td>\n",
       "      <td>0</td>\n",
       "    </tr>\n",
       "  </tbody>\n",
       "</table>\n",
       "<p>395219 rows × 9 columns</p>\n",
       "</div>"
      ],
      "text/plain": [
       "        05113  11650  22690  29597  30723  48052  70466  86630  93700\n",
       "0           0      0      1      0      0      0      0      0      0\n",
       "1           1      0      0      0      0      0      0      0      0\n",
       "2           1      0      0      0      0      0      0      0      0\n",
       "3           0      0      0      0      0      0      0      0      0\n",
       "4           0      1      0      0      0      0      0      0      0\n",
       "...       ...    ...    ...    ...    ...    ...    ...    ...    ...\n",
       "396025      0      0      0      0      1      0      0      0      0\n",
       "396026      1      0      0      0      0      0      0      0      0\n",
       "396027      0      0      0      0      0      0      1      0      0\n",
       "396028      0      0      0      1      0      0      0      0      0\n",
       "396029      0      0      0      0      0      1      0      0      0\n",
       "\n",
       "[395219 rows x 9 columns]"
      ]
     },
     "execution_count": 333,
     "metadata": {},
     "output_type": "execute_result"
    }
   ],
   "source": [
    "pd.get_dummies(df['zip_code'],drop_first=True)"
   ]
  },
  {
   "cell_type": "code",
   "execution_count": 334,
   "id": "1d057e86",
   "metadata": {},
   "outputs": [],
   "source": [
    "df = pd.concat([df,pd.get_dummies(df['zip_code'],drop_first=True)],axis=1)"
   ]
  },
  {
   "cell_type": "code",
   "execution_count": 335,
   "id": "aee6eb23",
   "metadata": {},
   "outputs": [],
   "source": [
    "df.drop(['zip_code','address'],axis=1,inplace=True)"
   ]
  },
  {
   "cell_type": "markdown",
   "id": "799ca356",
   "metadata": {},
   "source": [
    "**Checking the \"issue_d\" column**"
   ]
  },
  {
   "cell_type": "code",
   "execution_count": 336,
   "id": "b37f6fa9",
   "metadata": {},
   "outputs": [
    {
     "name": "stdout",
     "output_type": "stream",
     "text": [
      "The month which the loan was funded\n"
     ]
    }
   ],
   "source": [
    "feat_info('issue_d')"
   ]
  },
  {
   "cell_type": "code",
   "execution_count": 337,
   "id": "1f738250",
   "metadata": {},
   "outputs": [
    {
     "data": {
      "text/plain": [
       "0          Fully Paid\n",
       "1          Fully Paid\n",
       "2          Fully Paid\n",
       "3          Fully Paid\n",
       "4         Charged Off\n",
       "             ...     \n",
       "396025     Fully Paid\n",
       "396026     Fully Paid\n",
       "396027     Fully Paid\n",
       "396028     Fully Paid\n",
       "396029     Fully Paid\n",
       "Name: loan_status, Length: 395219, dtype: object"
      ]
     },
     "execution_count": 337,
     "metadata": {},
     "output_type": "execute_result"
    }
   ],
   "source": [
    "df['loan_status']"
   ]
  },
  {
   "cell_type": "markdown",
   "id": "ee55fe95",
   "metadata": {},
   "source": [
    "**Prior to making the decision wether the loan would be issued this information does not exist, therefore the column is dropped.**"
   ]
  },
  {
   "cell_type": "code",
   "execution_count": 338,
   "id": "77909f77",
   "metadata": {},
   "outputs": [],
   "source": [
    "df.drop('issue_d',axis=1,inplace=True)"
   ]
  },
  {
   "cell_type": "markdown",
   "id": "1cabc0e9",
   "metadata": {},
   "source": [
    "**Dropping the \"load_status\" column, \"loan_repaid\" column that was created earlier is used instead.**"
   ]
  },
  {
   "cell_type": "code",
   "execution_count": 339,
   "id": "ec9d6c32",
   "metadata": {},
   "outputs": [],
   "source": [
    "df.drop('loan_status',axis=1,inplace=True)"
   ]
  },
  {
   "cell_type": "markdown",
   "id": "dbf7b006",
   "metadata": {},
   "source": [
    "# Machine Learning"
   ]
  },
  {
   "cell_type": "markdown",
   "id": "f0894fac",
   "metadata": {},
   "source": [
    "## Train Test Split"
   ]
  },
  {
   "cell_type": "markdown",
   "id": "0172723c",
   "metadata": {},
   "source": [
    "**Importing train_test_split from sklearn.**"
   ]
  },
  {
   "cell_type": "code",
   "execution_count": 340,
   "id": "e2b3ce44",
   "metadata": {},
   "outputs": [],
   "source": [
    "from sklearn.model_selection import train_test_split"
   ]
  },
  {
   "cell_type": "markdown",
   "id": "f07d8549",
   "metadata": {},
   "source": [
    "**Setting and labeling X and y variables to the .values of the features**"
   ]
  },
  {
   "cell_type": "code",
   "execution_count": 396,
   "id": "9a5d5d40",
   "metadata": {},
   "outputs": [],
   "source": [
    "X = df.drop('loan_repaid',axis=1).values\n",
    "y = df['loan_repaid'].values"
   ]
  },
  {
   "cell_type": "code",
   "execution_count": 397,
   "id": "dcc30706",
   "metadata": {},
   "outputs": [
    {
     "data": {
      "text/plain": [
       "(395219, 78)"
      ]
     },
     "execution_count": 397,
     "metadata": {},
     "output_type": "execute_result"
    }
   ],
   "source": [
    "X.shape"
   ]
  },
  {
   "cell_type": "code",
   "execution_count": 398,
   "id": "02960327",
   "metadata": {},
   "outputs": [],
   "source": [
    "X_train, X_test, y_train, y_test = train_test_split(X, y, test_size=0.2, random_state=101)"
   ]
  },
  {
   "cell_type": "code",
   "execution_count": 399,
   "id": "12a5f6e3",
   "metadata": {},
   "outputs": [
    {
     "data": {
      "text/plain": [
       "(316175, 78)"
      ]
     },
     "execution_count": 399,
     "metadata": {},
     "output_type": "execute_result"
    }
   ],
   "source": [
    "X_train.shape"
   ]
  },
  {
   "cell_type": "markdown",
   "id": "5ac1d38f",
   "metadata": {},
   "source": [
    "## Normalizing the Data\n",
    "\n",
    "**Using sklearn MinMaxScaler to transform datapoints**"
   ]
  },
  {
   "cell_type": "code",
   "execution_count": 400,
   "id": "740fd507",
   "metadata": {},
   "outputs": [],
   "source": [
    "from sklearn.preprocessing import MinMaxScaler"
   ]
  },
  {
   "cell_type": "code",
   "execution_count": 401,
   "id": "10763893",
   "metadata": {},
   "outputs": [],
   "source": [
    "scaler = MinMaxScaler()"
   ]
  },
  {
   "cell_type": "code",
   "execution_count": 402,
   "id": "5dde5df5",
   "metadata": {},
   "outputs": [],
   "source": [
    "#help(MinMaxScaler)"
   ]
  },
  {
   "cell_type": "markdown",
   "id": "1cf62d0c",
   "metadata": {},
   "source": [
    "**Computing the minimum and maximum from training data, transforming train and test data**."
   ]
  },
  {
   "cell_type": "code",
   "execution_count": 403,
   "id": "c129aaa8",
   "metadata": {},
   "outputs": [],
   "source": [
    "X_train = scaler.fit_transform(X_train)"
   ]
  },
  {
   "cell_type": "code",
   "execution_count": 404,
   "id": "63e37ef8",
   "metadata": {},
   "outputs": [],
   "source": [
    "X_test = scaler.transform(X_test)"
   ]
  },
  {
   "cell_type": "markdown",
   "id": "906dc9e1",
   "metadata": {},
   "source": [
    "# Creating the Model\n",
    "\n",
    "**Importing the necessary Keras functions.**"
   ]
  },
  {
   "cell_type": "code",
   "execution_count": 405,
   "id": "0aa530f5",
   "metadata": {},
   "outputs": [],
   "source": [
    "import tensorflow as tf\n",
    "from tensorflow.keras.models import Sequential\n",
    "from tensorflow.keras.layers import Dense, Activation, Dropout\n",
    "from tensorflow.keras.constraints import max_norm"
   ]
  },
  {
   "cell_type": "markdown",
   "id": "ca9ba138",
   "metadata": {},
   "source": [
    "**Building a sequential model 78 --> 39 --> 19--> 1 perceptrons. 78 perceptrons are used in the input layer for 78 variables respectively columns of the dataframe. Using dense layers with dropout layers to avoid overfitting. The output layer consists of 1 perceptron bescause this is a binary classification problem (2 output conditions \"loan given\" or \"loan not given\"). 2 hidden layers are used in between.\n",
    "As activation function, \"relu\" is used in the hidden layers, sigmoid is used in the last layer since the output is a classification. Using binary crossentropy as loss function since it is a binary classification problem and \"Adam\" optimizer.**"
   ]
  },
  {
   "cell_type": "code",
   "execution_count": 406,
   "id": "2a00c721",
   "metadata": {},
   "outputs": [],
   "source": [
    "model = Sequential()\n",
    "\n",
    "# input layer\n",
    "model.add(Dense(78))\n",
    "model.add(Dropout(0.2))\n",
    "\n",
    "# hidden layer\n",
    "model.add(Dense(39, activation='relu'))\n",
    "model.add(Dropout(0.2))\n",
    "\n",
    "# hidden layer\n",
    "model.add(Dense(19, activation='relu'))\n",
    "model.add(Dropout(0.2))\n",
    "\n",
    "# output layer\n",
    "model.add(Dense(units=1,activation='sigmoid'))\n",
    "\n",
    "# Compile model\n",
    "model.compile(loss='binary_crossentropy', optimizer='adam')"
   ]
  },
  {
   "cell_type": "markdown",
   "id": "7061d1e4",
   "metadata": {},
   "source": [
    "**Training the model to the training data using 25 epochs. Adding test data as validation data for later plotting. Adding a batch_size of 256. Early stopping is not used this time.**"
   ]
  },
  {
   "cell_type": "code",
   "execution_count": 407,
   "id": "b2eecbca",
   "metadata": {},
   "outputs": [],
   "source": [
    "#from tensorflow.keras.callbacks import EarlyStopping"
   ]
  },
  {
   "cell_type": "code",
   "execution_count": 408,
   "id": "dd90d215",
   "metadata": {},
   "outputs": [],
   "source": [
    "#early_stop = EarlyStopping(monitor='val_loss', mode='min', verbose=1, patience=25)"
   ]
  },
  {
   "cell_type": "code",
   "execution_count": 409,
   "id": "2df5adac",
   "metadata": {},
   "outputs": [
    {
     "name": "stdout",
     "output_type": "stream",
     "text": [
      "Epoch 1/25\n",
      "1236/1236 [==============================] - 8s 5ms/step - loss: 0.2994 - val_loss: 0.2640\n",
      "Epoch 2/25\n",
      "1236/1236 [==============================] - 7s 5ms/step - loss: 0.2653 - val_loss: 0.2639\n",
      "Epoch 3/25\n",
      "1236/1236 [==============================] - 11s 9ms/step - loss: 0.2630 - val_loss: 0.2622\n",
      "Epoch 4/25\n",
      "1236/1236 [==============================] - 10s 8ms/step - loss: 0.2618 - val_loss: 0.2616\n",
      "Epoch 5/25\n",
      "1236/1236 [==============================] - 8s 7ms/step - loss: 0.2613 - val_loss: 0.2618\n",
      "Epoch 6/25\n",
      "1236/1236 [==============================] - 10s 8ms/step - loss: 0.2608 - val_loss: 0.2626\n",
      "Epoch 7/25\n",
      "1236/1236 [==============================] - 12s 9ms/step - loss: 0.2604 - val_loss: 0.2613\n",
      "Epoch 8/25\n",
      "1236/1236 [==============================] - 12s 10ms/step - loss: 0.2600 - val_loss: 0.2619\n",
      "Epoch 9/25\n",
      "1236/1236 [==============================] - 13s 10ms/step - loss: 0.2596 - val_loss: 0.2614\n",
      "Epoch 10/25\n",
      "1236/1236 [==============================] - 12s 10ms/step - loss: 0.2597 - val_loss: 0.2611\n",
      "Epoch 11/25\n",
      "1236/1236 [==============================] - 12s 10ms/step - loss: 0.2592 - val_loss: 0.2608\n",
      "Epoch 12/25\n",
      "1236/1236 [==============================] - 12s 10ms/step - loss: 0.2595 - val_loss: 0.2609\n",
      "Epoch 13/25\n",
      "1236/1236 [==============================] - 12s 9ms/step - loss: 0.2593 - val_loss: 0.2625\n",
      "Epoch 14/25\n",
      "1236/1236 [==============================] - 11s 9ms/step - loss: 0.2593 - val_loss: 0.2619\n",
      "Epoch 15/25\n",
      "1236/1236 [==============================] - 12s 9ms/step - loss: 0.2592 - val_loss: 0.2611\n",
      "Epoch 16/25\n",
      "1236/1236 [==============================] - 12s 9ms/step - loss: 0.2588 - val_loss: 0.2609\n",
      "Epoch 17/25\n",
      "1236/1236 [==============================] - 12s 10ms/step - loss: 0.2587 - val_loss: 0.2605\n",
      "Epoch 18/25\n",
      "1236/1236 [==============================] - 13s 11ms/step - loss: 0.2586 - val_loss: 0.2612\n",
      "Epoch 19/25\n",
      "1236/1236 [==============================] - 12s 10ms/step - loss: 0.2585 - val_loss: 0.2602\n",
      "Epoch 20/25\n",
      "1236/1236 [==============================] - 11s 9ms/step - loss: 0.2586 - val_loss: 0.2605\n",
      "Epoch 21/25\n",
      "1236/1236 [==============================] - 12s 10ms/step - loss: 0.2583 - val_loss: 0.2602\n",
      "Epoch 22/25\n",
      "1236/1236 [==============================] - 15s 12ms/step - loss: 0.2584 - val_loss: 0.2604\n",
      "Epoch 23/25\n",
      "1236/1236 [==============================] - 13s 11ms/step - loss: 0.2583 - val_loss: 0.2601\n",
      "Epoch 24/25\n",
      "1236/1236 [==============================] - 16s 13ms/step - loss: 0.2579 - val_loss: 0.2600\n",
      "Epoch 25/25\n",
      "1236/1236 [==============================] - 14s 11ms/step - loss: 0.2582 - val_loss: 0.2607\n"
     ]
    },
    {
     "data": {
      "text/plain": [
       "<keras.callbacks.History at 0x7fc908ea9a60>"
      ]
     },
     "execution_count": 409,
     "metadata": {},
     "output_type": "execute_result"
    }
   ],
   "source": [
    "model.fit(x=X_train, \n",
    "          y=y_train, \n",
    "          epochs=25,\n",
    "          batch_size=256,\n",
    "          validation_data=(X_test, y_test), \n",
    "          )"
   ]
  },
  {
   "cell_type": "markdown",
   "id": "deb00553",
   "metadata": {},
   "source": [
    "**Saving model.**"
   ]
  },
  {
   "cell_type": "code",
   "execution_count": 410,
   "id": "bdd567b8",
   "metadata": {},
   "outputs": [],
   "source": [
    "from tensorflow.keras.models import load_model"
   ]
  },
  {
   "cell_type": "code",
   "execution_count": 411,
   "id": "1535ccbb",
   "metadata": {},
   "outputs": [],
   "source": [
    "model.save('Lending_Club_Model.h5') "
   ]
  },
  {
   "cell_type": "code",
   "execution_count": 412,
   "id": "9b47bad2",
   "metadata": {},
   "outputs": [],
   "source": [
    "#model = load_model('my_model.h5')"
   ]
  },
  {
   "cell_type": "markdown",
   "id": "c6885a9f",
   "metadata": {},
   "source": [
    "## Evaluating Model Performance."
   ]
  },
  {
   "cell_type": "markdown",
   "id": "d7d3da37",
   "metadata": {},
   "source": [
    "**Plotting out the validation loss versus the training loss.**"
   ]
  },
  {
   "cell_type": "code",
   "execution_count": 413,
   "id": "d0a3dce5",
   "metadata": {},
   "outputs": [],
   "source": [
    "losses = pd.DataFrame(model.history.history)"
   ]
  },
  {
   "cell_type": "code",
   "execution_count": 414,
   "id": "fd79201c",
   "metadata": {},
   "outputs": [
    {
     "data": {
      "text/plain": [
       "<AxesSubplot:>"
      ]
     },
     "execution_count": 414,
     "metadata": {},
     "output_type": "execute_result"
    },
    {
     "data": {
      "image/png": "[encoded data removed]",
      "text/plain": [
       "<Figure size 432x288 with 1 Axes>"
      ]
     },
     "metadata": {
      "needs_background": "light"
     },
     "output_type": "display_data"
    }
   ],
   "source": [
    "losses[['loss','val_loss']].plot()"
   ]
  },
  {
   "cell_type": "markdown",
   "id": "84a76b78",
   "metadata": {},
   "source": [
    "**The graph shows a steady decrease in loss without overfitting (in this case the val_loss curve would increase with increasing amount of epochs). The decrease in loss function is relative low however which indicates that the data used for the analysis provides limited information about the dependencies between the vaiables, so the quality of predictions will also be limited.**"
   ]
  },
  {
   "cell_type": "markdown",
   "id": "e51ba156",
   "metadata": {},
   "source": [
    "**Creating predictions from the X_test set and displaing a classification report and confusion matrix for the X_test set.**"
   ]
  },
  {
   "cell_type": "code",
   "execution_count": 415,
   "id": "331d2fd1",
   "metadata": {},
   "outputs": [],
   "source": [
    "from sklearn.metrics import confusion_matrix,classification_report"
   ]
  },
  {
   "cell_type": "code",
   "execution_count": 416,
   "id": "cc657c72",
   "metadata": {},
   "outputs": [
    {
     "name": "stdout",
     "output_type": "stream",
     "text": [
      "2471/2471 [==============================] - 4s 2ms/step\n"
     ]
    }
   ],
   "source": [
    "predictions = (model.predict(X_test) > 0.5).astype(\"int32\")"
   ]
  },
  {
   "cell_type": "markdown",
   "id": "60d6e63c",
   "metadata": {},
   "source": [
    "**Printing confusion matrix and classification report**"
   ]
  },
  {
   "cell_type": "code",
   "execution_count": 427,
   "id": "030b77fa",
   "metadata": {},
   "outputs": [],
   "source": [
    "from sklearn.metrics import ConfusionMatrixDisplay"
   ]
  },
  {
   "cell_type": "markdown",
   "id": "9808fc5d",
   "metadata": {},
   "source": [
    "**Visualizing the confusion matrix**"
   ]
  },
  {
   "cell_type": "code",
   "execution_count": 442,
   "id": "3fb425d0",
   "metadata": {},
   "outputs": [
    {
     "data": {
      "text/plain": [
       "<sklearn.metrics._plot.confusion_matrix.ConfusionMatrixDisplay at 0x7fc906c78ac0>"
      ]
     },
     "execution_count": 442,
     "metadata": {},
     "output_type": "execute_result"
    },
    {
     "data": {
      "image/png": "[encoded data removed]",
      "text/plain": [
       "<Figure size 432x288 with 2 Axes>"
      ]
     },
     "metadata": {
      "needs_background": "light"
     },
     "output_type": "display_data"
    }
   ],
   "source": [
    "cm = confusion_matrix(y_test, predictions)\n",
    "disp = ConfusionMatrixDisplay(confusion_matrix=cm,display_labels=['Fully Paid','Charged Off'])\n",
    "disp.plot()"
   ]
  },
  {
   "cell_type": "markdown",
   "id": "37b07770",
   "metadata": {},
   "source": [
    "**Visualizing the confusion matrix, normalized (sum of values in a row equals 1)**"
   ]
  },
  {
   "cell_type": "code",
   "execution_count": 444,
   "id": "429b42ce",
   "metadata": {},
   "outputs": [
    {
     "data": {
      "text/plain": [
       "<sklearn.metrics._plot.confusion_matrix.ConfusionMatrixDisplay at 0x7fc9069a2e80>"
      ]
     },
     "execution_count": 444,
     "metadata": {},
     "output_type": "execute_result"
    },
    {
     "data": {
      "image/png": "[encoded data removed]",
      "text/plain": [
       "<Figure size 432x288 with 2 Axes>"
      ]
     },
     "metadata": {
      "needs_background": "light"
     },
     "output_type": "display_data"
    }
   ],
   "source": [
    "cm = confusion_matrix(y_test, predictions,normalize='true')\n",
    "disp = ConfusionMatrixDisplay(confusion_matrix=cm,display_labels=['Fully Paid','Charged Off'])\n",
    "disp.plot()\n"
   ]
  },
  {
   "cell_type": "markdown",
   "id": "9f09f334",
   "metadata": {},
   "source": [
    "**The confusion matrix shows that the model's predictions provides an extremely low number of false negatives, but a quite high number of false positives. This means that this model will give loans to many people who are unlikely to pay back the loan.**"
   ]
  },
  {
   "cell_type": "code",
   "execution_count": 446,
   "id": "6ef8e892",
   "metadata": {},
   "outputs": [
    {
     "name": "stdout",
     "output_type": "stream",
     "text": [
      "              precision    recall  f1-score   support\n",
      "\n",
      "  Fully Paid       1.00      0.43      0.60     15658\n",
      " Charged Off       0.88      1.00      0.93     63386\n",
      "\n",
      "    accuracy                           0.89     79044\n",
      "   macro avg       0.94      0.71      0.77     79044\n",
      "weighted avg       0.90      0.89      0.87     79044\n",
      "\n"
     ]
    }
   ],
   "source": [
    "print(classification_report(y_test,predictions,target_names=['Fully Paid','Charged Off']))"
   ]
  },
  {
   "cell_type": "markdown",
   "id": "294f43fb",
   "metadata": {},
   "source": [
    "\n"
   ]
  },
  {
   "cell_type": "code",
   "execution_count": null,
   "id": "0d9a6bcf",
   "metadata": {},
   "outputs": [],
   "source": []
  }
 ],
 "metadata": {
  "kernelspec": {
   "display_name": "Python 3 (ipykernel)",
   "language": "python",
   "name": "python3"
  },
  "language_info": {
   "codemirror_mode": {
    "name": "ipython",
    "version": 3
   },
   "file_extension": ".py",
   "mimetype": "text/x-python",
   "name": "python",
   "nbconvert_exporter": "python",
   "pygments_lexer": "ipython3",
   "version": "3.9.12"
  }
 },
 "nbformat": 4,
 "nbformat_minor": 5
}
